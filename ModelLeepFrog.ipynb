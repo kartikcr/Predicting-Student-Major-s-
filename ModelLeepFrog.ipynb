{
 "cells": [
  {
   "cell_type": "markdown",
   "metadata": {},
   "source": [
    "## Necessary Imports"
   ]
  },
  {
   "cell_type": "code",
   "execution_count": 1,
   "metadata": {},
   "outputs": [
    {
     "name": "stderr",
     "output_type": "stream",
     "text": [
      "Using TensorFlow backend.\n"
     ]
    }
   ],
   "source": [
    "import csv\n",
    "import pandas as pd\n",
    "from sklearn.model_selection import train_test_split\n",
    "from sklearn.datasets import load_iris\n",
    "from sklearn.model_selection import cross_val_score\n",
    "from sklearn.tree import DecisionTreeClassifier\n",
    "from sklearn import tree\n",
    "from sklearn.metrics import accuracy_score\n",
    "from sklearn.neighbors import KNeighborsClassifier\n",
    "from sklearn import model_selection\n",
    "from sklearn import feature_selection\n",
    "import graphviz\n",
    "from sklearn.preprocessing import LabelEncoder\n",
    "from sklearn.preprocessing import OneHotEncoder\n",
    "from keras.utils import to_categorical\n",
    "import warnings\n",
    "warnings.filterwarnings(\"ignore\")"
   ]
  },
  {
   "cell_type": "markdown",
   "metadata": {},
   "source": [
    "Loading the training file"
   ]
  },
  {
   "cell_type": "code",
   "execution_count": 2,
   "metadata": {},
   "outputs": [],
   "source": [
    "data_raw = pd.read_csv('training.psv', sep='|', header=0)\n",
    "train_df = data_raw.copy(deep = True)\n",
    "train_df1 = data_raw.copy(deep = True)"
   ]
  },
  {
   "cell_type": "code",
   "execution_count": 3,
   "metadata": {},
   "outputs": [
    {
     "data": {
      "text/html": [
       "<div>\n",
       "<style scoped>\n",
       "    .dataframe tbody tr th:only-of-type {\n",
       "        vertical-align: middle;\n",
       "    }\n",
       "\n",
       "    .dataframe tbody tr th {\n",
       "        vertical-align: top;\n",
       "    }\n",
       "\n",
       "    .dataframe thead th {\n",
       "        text-align: right;\n",
       "    }\n",
       "</style>\n",
       "<table border=\"1\" class=\"dataframe\">\n",
       "  <thead>\n",
       "    <tr style=\"text-align: right;\">\n",
       "      <th></th>\n",
       "      <th>student_id</th>\n",
       "      <th>level</th>\n",
       "      <th>course</th>\n",
       "      <th>grade</th>\n",
       "      <th>major</th>\n",
       "    </tr>\n",
       "  </thead>\n",
       "  <tbody>\n",
       "    <tr>\n",
       "      <th>0</th>\n",
       "      <td>ppVGBRKhtqqyxnVO</td>\n",
       "      <td>Freshman</td>\n",
       "      <td>SPAN:100</td>\n",
       "      <td>A</td>\n",
       "      <td>Business</td>\n",
       "    </tr>\n",
       "    <tr>\n",
       "      <th>1</th>\n",
       "      <td>PiPkSgMGbFIu5RwR</td>\n",
       "      <td>Freshman</td>\n",
       "      <td>CSI:160</td>\n",
       "      <td>S</td>\n",
       "      <td>International Relations</td>\n",
       "    </tr>\n",
       "    <tr>\n",
       "      <th>2</th>\n",
       "      <td>PiPkSgMGbFIu5RwR</td>\n",
       "      <td>Sophomore</td>\n",
       "      <td>EES:107</td>\n",
       "      <td>C</td>\n",
       "      <td>International Relations</td>\n",
       "    </tr>\n",
       "    <tr>\n",
       "      <th>3</th>\n",
       "      <td>PiPkSgMGbFIu5RwR</td>\n",
       "      <td>Senior</td>\n",
       "      <td>SPAN:201</td>\n",
       "      <td>B</td>\n",
       "      <td>International Relations</td>\n",
       "    </tr>\n",
       "    <tr>\n",
       "      <th>4</th>\n",
       "      <td>PiPkSgMGbFIu5RwR</td>\n",
       "      <td>Junior</td>\n",
       "      <td>ENTR:200</td>\n",
       "      <td>B+</td>\n",
       "      <td>International Relations</td>\n",
       "    </tr>\n",
       "  </tbody>\n",
       "</table>\n",
       "</div>"
      ],
      "text/plain": [
       "         student_id      level    course grade                    major\n",
       "0  ppVGBRKhtqqyxnVO   Freshman  SPAN:100     A                 Business\n",
       "1  PiPkSgMGbFIu5RwR   Freshman   CSI:160     S  International Relations\n",
       "2  PiPkSgMGbFIu5RwR  Sophomore   EES:107     C  International Relations\n",
       "3  PiPkSgMGbFIu5RwR     Senior  SPAN:201     B  International Relations\n",
       "4  PiPkSgMGbFIu5RwR     Junior  ENTR:200    B+  International Relations"
      ]
     },
     "execution_count": 3,
     "metadata": {},
     "output_type": "execute_result"
    }
   ],
   "source": [
    "train_df.head()"
   ]
  },
  {
   "cell_type": "code",
   "execution_count": 4,
   "metadata": {},
   "outputs": [
    {
     "data": {
      "text/html": [
       "<div>\n",
       "<style scoped>\n",
       "    .dataframe tbody tr th:only-of-type {\n",
       "        vertical-align: middle;\n",
       "    }\n",
       "\n",
       "    .dataframe tbody tr th {\n",
       "        vertical-align: top;\n",
       "    }\n",
       "\n",
       "    .dataframe thead th {\n",
       "        text-align: right;\n",
       "    }\n",
       "</style>\n",
       "<table border=\"1\" class=\"dataframe\">\n",
       "  <thead>\n",
       "    <tr style=\"text-align: right;\">\n",
       "      <th></th>\n",
       "      <th>student_id</th>\n",
       "      <th>level</th>\n",
       "      <th>course</th>\n",
       "      <th>grade</th>\n",
       "      <th>major</th>\n",
       "    </tr>\n",
       "  </thead>\n",
       "  <tbody>\n",
       "    <tr>\n",
       "      <th>count</th>\n",
       "      <td>97276</td>\n",
       "      <td>97276</td>\n",
       "      <td>97276</td>\n",
       "      <td>97276</td>\n",
       "      <td>97276</td>\n",
       "    </tr>\n",
       "    <tr>\n",
       "      <th>unique</th>\n",
       "      <td>10000</td>\n",
       "      <td>4</td>\n",
       "      <td>2721</td>\n",
       "      <td>21</td>\n",
       "      <td>81</td>\n",
       "    </tr>\n",
       "    <tr>\n",
       "      <th>top</th>\n",
       "      <td>cJdq8OlOg2x4drwW</td>\n",
       "      <td>Senior</td>\n",
       "      <td>RHET:103</td>\n",
       "      <td>A</td>\n",
       "      <td>Psychology</td>\n",
       "    </tr>\n",
       "    <tr>\n",
       "      <th>freq</th>\n",
       "      <td>90</td>\n",
       "      <td>30367</td>\n",
       "      <td>1685</td>\n",
       "      <td>18729</td>\n",
       "      <td>10274</td>\n",
       "    </tr>\n",
       "  </tbody>\n",
       "</table>\n",
       "</div>"
      ],
      "text/plain": [
       "              student_id   level    course  grade       major\n",
       "count              97276   97276     97276  97276       97276\n",
       "unique             10000       4      2721     21          81\n",
       "top     cJdq8OlOg2x4drwW  Senior  RHET:103      A  Psychology\n",
       "freq                  90   30367      1685  18729       10274"
      ]
     },
     "execution_count": 4,
     "metadata": {},
     "output_type": "execute_result"
    }
   ],
   "source": [
    "train_df.describe()"
   ]
  },
  {
   "cell_type": "markdown",
   "metadata": {},
   "source": [
    "### Total No. of Grades ----> Problem PDF has 20 explicitly stated grades,\n",
    "But our Grades our coming 21 unique\n",
    "### This is noise\n",
    "### There are total 2721(A lot) number of courses\n",
    "### Final prediction ----> 81 Majors Possible(Lot of output classes)"
   ]
  },
  {
   "cell_type": "code",
   "execution_count": 5,
   "metadata": {},
   "outputs": [
    {
     "data": {
      "text/plain": [
       "array(['A', 'S', 'C', 'B', 'B+', 'D+', 'A-', 'C+', 'B-', 'D', 'A+', 'C-',\n",
       "       'R', 'AUS', 'D-', 'I', 'P', 'U', 'WX', 'AUU', 'N'], dtype=object)"
      ]
     },
     "execution_count": 5,
     "metadata": {},
     "output_type": "execute_result"
    }
   ],
   "source": [
    "train_df.grade.unique()"
   ]
  },
  {
   "cell_type": "markdown",
   "metadata": {},
   "source": [
    "#### I am assuming that all grades written 'I' were actually 'IP' and were accidentally stored this way! "
   ]
  },
  {
   "cell_type": "code",
   "execution_count": 6,
   "metadata": {},
   "outputs": [],
   "source": [
    "train_df = train_df[~train_df.grade.str.contains('WX')]\n",
    "train_df = train_df[~train_df.grade.str.contains('R')]"
   ]
  },
  {
   "cell_type": "markdown",
   "metadata": {},
   "source": [
    "### Encoding grades to integers"
   ]
  },
  {
   "cell_type": "code",
   "execution_count": 7,
   "metadata": {},
   "outputs": [],
   "source": [
    "grade = {\"A+\" : 20,\"A\" : 19,\"A-\" : 18,\"B+\" : 17,\"B\" : 16,\"B-\" : 15,\"C+\" : 14,\n",
    "         \"C\" : 13,\"C-\" : 12,\"D+\" : 11,\"D\" : 10,\"D-\" : 9,\"F\" : 8,\n",
    "        \"AUS\" : 7,\"AUU\" : 6,\"I\" : 5,\"N\" : 4,\"P\" : 3,\"S\" : 2,\"U\" : 1}\n",
    "train_df['grade'] = train_df['grade'].map(grade)"
   ]
  },
  {
   "cell_type": "markdown",
   "metadata": {},
   "source": [
    "### Encoding the 4 unique levels into integers"
   ]
  },
  {
   "cell_type": "code",
   "execution_count": 8,
   "metadata": {},
   "outputs": [],
   "source": [
    "levels = {\"Freshman\": 0, \"Sophomore\": 1, \"Junior\": 2, \"Senior\": 3}\n",
    "train_df['level'] = train_df['level'].map(levels)"
   ]
  },
  {
   "cell_type": "code",
   "execution_count": 9,
   "metadata": {},
   "outputs": [],
   "source": [
    "import seaborn as sns\n",
    "import matplotlib.pyplot as plt"
   ]
  },
  {
   "cell_type": "code",
   "execution_count": 10,
   "metadata": {},
   "outputs": [],
   "source": [
    "# course_count = train_df['course'].value_counts()\n",
    "# sns.set(style=\"darkgrid\")\n",
    "# sns.barplot(course_count.index, course_count.values, alpha=0.9)\n",
    "# plt.title('Frequency Distribution of Courses')\n",
    "# plt.ylabel('Number of Occurrences', fontsize=12)\n",
    "# plt.xlabel('Courses', fontsize=12)\n",
    "# plt.show()\n"
   ]
  },
  {
   "cell_type": "markdown",
   "metadata": {},
   "source": [
    "Now Since we have levels seperately, for each course, it doesn't make sense to make dummy for 2500+ courses leading into a very sparse representation of features.\n",
    "This is because of various subject_ids of subjects.\n",
    "Since it won't make sense that way, I will seperate each coloumn entry of courses by splitting the term given after : and using only the subject and not the subject_id\n",
    "ex-> CSC:142 and CSC :421 are only different in terms of level or ids, we will convert both of these into CSC"
   ]
  },
  {
   "cell_type": "code",
   "execution_count": null,
   "metadata": {},
   "outputs": [],
   "source": []
  },
  {
   "cell_type": "code",
   "execution_count": 11,
   "metadata": {},
   "outputs": [
    {
     "data": {
      "text/plain": [
       "179"
      ]
     },
     "execution_count": 11,
     "metadata": {},
     "output_type": "execute_result"
    }
   ],
   "source": [
    "df1 = train_df['course'].str.split(\":\",expand = True)\n",
    "train_df['course'] = df1[0]\n",
    "len(train_df.course.unique())"
   ]
  },
  {
   "cell_type": "markdown",
   "metadata": {},
   "source": [
    "Narrowed down from 2721unique courses to 179 unique courses, using only the course split up"
   ]
  },
  {
   "cell_type": "markdown",
   "metadata": {},
   "source": [
    "### Now, Converting the major(Output variable/To Be Predicted) into random integer encoding so that we can try varous models on this"
   ]
  },
  {
   "cell_type": "code",
   "execution_count": 12,
   "metadata": {},
   "outputs": [
    {
     "data": {
      "text/html": [
       "<div>\n",
       "<style scoped>\n",
       "    .dataframe tbody tr th:only-of-type {\n",
       "        vertical-align: middle;\n",
       "    }\n",
       "\n",
       "    .dataframe tbody tr th {\n",
       "        vertical-align: top;\n",
       "    }\n",
       "\n",
       "    .dataframe thead th {\n",
       "        text-align: right;\n",
       "    }\n",
       "</style>\n",
       "<table border=\"1\" class=\"dataframe\">\n",
       "  <thead>\n",
       "    <tr style=\"text-align: right;\">\n",
       "      <th></th>\n",
       "      <th>student_id</th>\n",
       "      <th>level</th>\n",
       "      <th>course</th>\n",
       "      <th>grade</th>\n",
       "      <th>major</th>\n",
       "    </tr>\n",
       "  </thead>\n",
       "  <tbody>\n",
       "    <tr>\n",
       "      <th>0</th>\n",
       "      <td>ppVGBRKhtqqyxnVO</td>\n",
       "      <td>0</td>\n",
       "      <td>SPAN</td>\n",
       "      <td>19</td>\n",
       "      <td>11</td>\n",
       "    </tr>\n",
       "    <tr>\n",
       "      <th>1</th>\n",
       "      <td>PiPkSgMGbFIu5RwR</td>\n",
       "      <td>0</td>\n",
       "      <td>CSI</td>\n",
       "      <td>2</td>\n",
       "      <td>45</td>\n",
       "    </tr>\n",
       "    <tr>\n",
       "      <th>2</th>\n",
       "      <td>PiPkSgMGbFIu5RwR</td>\n",
       "      <td>1</td>\n",
       "      <td>EES</td>\n",
       "      <td>13</td>\n",
       "      <td>45</td>\n",
       "    </tr>\n",
       "    <tr>\n",
       "      <th>3</th>\n",
       "      <td>PiPkSgMGbFIu5RwR</td>\n",
       "      <td>3</td>\n",
       "      <td>SPAN</td>\n",
       "      <td>16</td>\n",
       "      <td>45</td>\n",
       "    </tr>\n",
       "    <tr>\n",
       "      <th>4</th>\n",
       "      <td>PiPkSgMGbFIu5RwR</td>\n",
       "      <td>2</td>\n",
       "      <td>ENTR</td>\n",
       "      <td>17</td>\n",
       "      <td>45</td>\n",
       "    </tr>\n",
       "  </tbody>\n",
       "</table>\n",
       "</div>"
      ],
      "text/plain": [
       "         student_id  level course  grade  major\n",
       "0  ppVGBRKhtqqyxnVO      0   SPAN     19     11\n",
       "1  PiPkSgMGbFIu5RwR      0    CSI      2     45\n",
       "2  PiPkSgMGbFIu5RwR      1    EES     13     45\n",
       "3  PiPkSgMGbFIu5RwR      3   SPAN     16     45\n",
       "4  PiPkSgMGbFIu5RwR      2   ENTR     17     45"
      ]
     },
     "execution_count": 12,
     "metadata": {},
     "output_type": "execute_result"
    }
   ],
   "source": [
    "revert1 = dict([(code,category) for code, category in enumerate(train_df1.major.astype('category').cat.categories)])\n",
    "train_df['major'] = train_df['major'].astype('category').cat.codes\n",
    "train_df.head()"
   ]
  },
  {
   "cell_type": "markdown",
   "metadata": {},
   "source": [
    "### We need to store this mapping so that we can revert back our predictions back to the actual mapping, so we used this dictionary called revert1"
   ]
  },
  {
   "cell_type": "code",
   "execution_count": 13,
   "metadata": {},
   "outputs": [
    {
     "data": {
      "text/plain": [
       "{0: 'Accounting',\n",
       " 1: 'Actuarial Science',\n",
       " 2: 'Actuarial Sciences',\n",
       " 3: 'African American Studies',\n",
       " 4: 'Anthropology',\n",
       " 5: 'Art',\n",
       " 6: 'Asian Studies',\n",
       " 7: 'Astronomy',\n",
       " 8: 'Biochemistry',\n",
       " 9: 'Biology',\n",
       " 10: 'Biomedical Sciences',\n",
       " 11: 'Business',\n",
       " 12: 'Business Administration',\n",
       " 13: 'Business Analytics',\n",
       " 14: 'Chemical Engineering',\n",
       " 15: 'Chemistry',\n",
       " 16: 'Chiropractic',\n",
       " 17: 'Cinema',\n",
       " 18: 'Civil Engineering',\n",
       " 19: 'Classical Languages',\n",
       " 20: 'Communication Studies',\n",
       " 21: 'Computer Science',\n",
       " 22: 'Criminology',\n",
       " 23: 'Dance',\n",
       " 24: 'Dentistry',\n",
       " 25: 'Economics',\n",
       " 26: 'Education',\n",
       " 27: 'Electrical Engineering',\n",
       " 28: 'English',\n",
       " 29: 'Environmental Sciences',\n",
       " 30: 'Ethics And Public Policy',\n",
       " 31: 'Finance',\n",
       " 32: 'French',\n",
       " 33: 'Gender Studies',\n",
       " 34: 'Geography',\n",
       " 35: 'German',\n",
       " 36: 'Global Studies',\n",
       " 37: 'Health And Sport Sciences',\n",
       " 38: 'Health And Sport Studies',\n",
       " 39: 'History',\n",
       " 40: 'Human Physiology',\n",
       " 41: 'Industrial Engineering',\n",
       " 42: 'Informatics',\n",
       " 43: 'Interdepartmental Studies',\n",
       " 44: 'Intergrative Physiology',\n",
       " 45: 'International Relations',\n",
       " 46: 'Italian',\n",
       " 47: 'Laboratory Sciences',\n",
       " 48: 'Law',\n",
       " 49: 'Leisure Studies',\n",
       " 50: 'Linguistics',\n",
       " 51: 'Literature',\n",
       " 52: 'Management',\n",
       " 53: 'Marketing',\n",
       " 54: 'Mathematics',\n",
       " 55: 'Medical Engineering',\n",
       " 56: 'Medicine',\n",
       " 57: 'Microbiology',\n",
       " 58: 'Mortuary Science',\n",
       " 59: 'Music',\n",
       " 60: 'Neuroscience',\n",
       " 61: 'Nuclear Medicine Technology',\n",
       " 62: 'Nursing',\n",
       " 63: 'Occupational Therapy',\n",
       " 64: 'Philosophy',\n",
       " 65: 'Physics',\n",
       " 66: 'Political Science',\n",
       " 67: 'Portuguese',\n",
       " 68: 'Psychology',\n",
       " 69: 'Public Health',\n",
       " 70: 'Radiation Sciences',\n",
       " 71: 'Religion',\n",
       " 72: 'Russian',\n",
       " 73: 'Social Work',\n",
       " 74: 'Sociology',\n",
       " 75: 'Spanish',\n",
       " 76: 'Speech And Hearing Science',\n",
       " 77: 'Statistics',\n",
       " 78: 'Theatre',\n",
       " 79: 'Therapeutic Recreation',\n",
       " 80: 'Veterinary Medicine'}"
      ]
     },
     "execution_count": 13,
     "metadata": {},
     "output_type": "execute_result"
    }
   ],
   "source": [
    "revert1"
   ]
  },
  {
   "cell_type": "markdown",
   "metadata": {},
   "source": [
    "### Trying out methods to do grouping below(Ignore the below cell)"
   ]
  },
  {
   "cell_type": "code",
   "execution_count": 14,
   "metadata": {},
   "outputs": [],
   "source": [
    "# import numpy as np\n",
    "# import pandas as pd\n",
    "\n",
    "# tata = train_df.groupby('student_id').course.value_counts()\n",
    "# # train_df1 = grouped.agg({'grade' : np.sum,\n",
    "# #                 'level' : np.mean,\n",
    "# #              'major': np.mean ,\n",
    "# #             'course' : np.max,\n",
    "# # #             })\n",
    "# favcourse = train_df.groupby(\"student_id\").course.()\n",
    "# favcourse\n",
    "# topdf['01W7KB8TDNWNx4YW'].PSY\n",
    "# tata"
   ]
  },
  {
   "cell_type": "code",
   "execution_count": 15,
   "metadata": {},
   "outputs": [
    {
     "data": {
      "text/plain": [
       "(96272, 5)"
      ]
     },
     "execution_count": 15,
     "metadata": {},
     "output_type": "execute_result"
    }
   ],
   "source": [
    "train_course_df = train_df\n",
    "train_df.shape"
   ]
  },
  {
   "cell_type": "code",
   "execution_count": 16,
   "metadata": {},
   "outputs": [
    {
     "data": {
      "text/html": [
       "<div>\n",
       "<style scoped>\n",
       "    .dataframe tbody tr th:only-of-type {\n",
       "        vertical-align: middle;\n",
       "    }\n",
       "\n",
       "    .dataframe tbody tr th {\n",
       "        vertical-align: top;\n",
       "    }\n",
       "\n",
       "    .dataframe thead th {\n",
       "        text-align: right;\n",
       "    }\n",
       "</style>\n",
       "<table border=\"1\" class=\"dataframe\">\n",
       "  <thead>\n",
       "    <tr style=\"text-align: right;\">\n",
       "      <th></th>\n",
       "      <th>student_id</th>\n",
       "      <th>level</th>\n",
       "      <th>course</th>\n",
       "      <th>grade</th>\n",
       "      <th>major</th>\n",
       "    </tr>\n",
       "  </thead>\n",
       "  <tbody>\n",
       "    <tr>\n",
       "      <th>0</th>\n",
       "      <td>ppVGBRKhtqqyxnVO</td>\n",
       "      <td>0</td>\n",
       "      <td>SPAN</td>\n",
       "      <td>19</td>\n",
       "      <td>11</td>\n",
       "    </tr>\n",
       "    <tr>\n",
       "      <th>1</th>\n",
       "      <td>PiPkSgMGbFIu5RwR</td>\n",
       "      <td>0</td>\n",
       "      <td>CSI</td>\n",
       "      <td>2</td>\n",
       "      <td>45</td>\n",
       "    </tr>\n",
       "    <tr>\n",
       "      <th>2</th>\n",
       "      <td>PiPkSgMGbFIu5RwR</td>\n",
       "      <td>1</td>\n",
       "      <td>EES</td>\n",
       "      <td>13</td>\n",
       "      <td>45</td>\n",
       "    </tr>\n",
       "    <tr>\n",
       "      <th>3</th>\n",
       "      <td>PiPkSgMGbFIu5RwR</td>\n",
       "      <td>3</td>\n",
       "      <td>SPAN</td>\n",
       "      <td>16</td>\n",
       "      <td>45</td>\n",
       "    </tr>\n",
       "    <tr>\n",
       "      <th>4</th>\n",
       "      <td>PiPkSgMGbFIu5RwR</td>\n",
       "      <td>2</td>\n",
       "      <td>ENTR</td>\n",
       "      <td>17</td>\n",
       "      <td>45</td>\n",
       "    </tr>\n",
       "  </tbody>\n",
       "</table>\n",
       "</div>"
      ],
      "text/plain": [
       "         student_id  level course  grade  major\n",
       "0  ppVGBRKhtqqyxnVO      0   SPAN     19     11\n",
       "1  PiPkSgMGbFIu5RwR      0    CSI      2     45\n",
       "2  PiPkSgMGbFIu5RwR      1    EES     13     45\n",
       "3  PiPkSgMGbFIu5RwR      3   SPAN     16     45\n",
       "4  PiPkSgMGbFIu5RwR      2   ENTR     17     45"
      ]
     },
     "execution_count": 16,
     "metadata": {},
     "output_type": "execute_result"
    }
   ],
   "source": [
    "train_df.head()"
   ]
  },
  {
   "cell_type": "markdown",
   "metadata": {},
   "source": [
    "## Now, for every student, they have certain courses they took using some level of each course and grades they got in the courses(Converted to integer mapping). We will now group each student by its unique id\n",
    "### This leads us to various parts of aggregation that I performed\n",
    "# I felt the two most important criteria that we need to keep for each student while aggregating is : Course for which they had highest frequency (Most frequent course they took), frequency of their course, (so that out model includes impact of taking a particular course a particular time), average, sum and number of grades given"
   ]
  },
  {
   "cell_type": "code",
   "execution_count": 17,
   "metadata": {},
   "outputs": [
    {
     "data": {
      "text/html": [
       "<div>\n",
       "<style scoped>\n",
       "    .dataframe tbody tr th:only-of-type {\n",
       "        vertical-align: middle;\n",
       "    }\n",
       "\n",
       "    .dataframe tbody tr th {\n",
       "        vertical-align: top;\n",
       "    }\n",
       "\n",
       "    .dataframe thead tr th {\n",
       "        text-align: left;\n",
       "    }\n",
       "</style>\n",
       "<table border=\"1\" class=\"dataframe\">\n",
       "  <thead>\n",
       "    <tr>\n",
       "      <th></th>\n",
       "      <th>student_id</th>\n",
       "      <th colspan=\"3\" halign=\"left\">grade</th>\n",
       "      <th>level</th>\n",
       "      <th>major</th>\n",
       "    </tr>\n",
       "    <tr>\n",
       "      <th></th>\n",
       "      <th></th>\n",
       "      <th>grade_sum</th>\n",
       "      <th>grade_mean</th>\n",
       "      <th>grade_count</th>\n",
       "      <th>level</th>\n",
       "      <th>major</th>\n",
       "    </tr>\n",
       "  </thead>\n",
       "  <tbody>\n",
       "    <tr>\n",
       "      <th>0</th>\n",
       "      <td>01DiJuoJAB395ucJ</td>\n",
       "      <td>16</td>\n",
       "      <td>16.000000</td>\n",
       "      <td>1</td>\n",
       "      <td>3.000000</td>\n",
       "      <td>13</td>\n",
       "    </tr>\n",
       "    <tr>\n",
       "      <th>1</th>\n",
       "      <td>01MhxeQl5FhRsf3f</td>\n",
       "      <td>13</td>\n",
       "      <td>13.000000</td>\n",
       "      <td>1</td>\n",
       "      <td>0.000000</td>\n",
       "      <td>11</td>\n",
       "    </tr>\n",
       "    <tr>\n",
       "      <th>2</th>\n",
       "      <td>01W7KB8TDNWNx4YW</td>\n",
       "      <td>197</td>\n",
       "      <td>15.153846</td>\n",
       "      <td>13</td>\n",
       "      <td>1.923077</td>\n",
       "      <td>67</td>\n",
       "    </tr>\n",
       "    <tr>\n",
       "      <th>3</th>\n",
       "      <td>042Rmpv5B2kXdfBR</td>\n",
       "      <td>15</td>\n",
       "      <td>15.000000</td>\n",
       "      <td>1</td>\n",
       "      <td>2.000000</td>\n",
       "      <td>20</td>\n",
       "    </tr>\n",
       "    <tr>\n",
       "      <th>4</th>\n",
       "      <td>04DuzbneGqk0o0jY</td>\n",
       "      <td>17</td>\n",
       "      <td>17.000000</td>\n",
       "      <td>1</td>\n",
       "      <td>1.000000</td>\n",
       "      <td>29</td>\n",
       "    </tr>\n",
       "  </tbody>\n",
       "</table>\n",
       "</div>"
      ],
      "text/plain": [
       "         student_id     grade                            level major\n",
       "                    grade_sum grade_mean grade_count     level major\n",
       "0  01DiJuoJAB395ucJ        16  16.000000           1  3.000000    13\n",
       "1  01MhxeQl5FhRsf3f        13  13.000000           1  0.000000    11\n",
       "2  01W7KB8TDNWNx4YW       197  15.153846          13  1.923077    67\n",
       "3  042Rmpv5B2kXdfBR        15  15.000000           1  2.000000    20\n",
       "4  04DuzbneGqk0o0jY        17  17.000000           1  1.000000    29"
      ]
     },
     "execution_count": 17,
     "metadata": {},
     "output_type": "execute_result"
    }
   ],
   "source": [
    "aggregations = {\n",
    "    'grade': { # work on the \"duration\" column\n",
    "        'grade_sum': 'sum',  # get the sum, and call this result 'total_duration'\n",
    "        'grade_mean': 'mean', # get mean, call result 'average_duration'\n",
    "        'grade_count': 'count'\n",
    "    },\n",
    "    'level' : {'level' : 'mean'},\n",
    "    'major' : {'major' : 'mean'},\n",
    "#     'course': [\"count\", \"max\"]  # Calculate two results for the 'network' column with a list\n",
    "}\n",
    "\n",
    "# Perform groupby aggregation by \"month\", but only on the rows that are of type \"call\"\n",
    "train_df = train_df.groupby('student_id',as_index=False).agg(aggregations)\n",
    "train_df.head()"
   ]
  },
  {
   "cell_type": "markdown",
   "metadata": {},
   "source": [
    "## For every unique student, Now I have evaluated the most frequent course they took (favcourse) and its frequency(freq_fc)"
   ]
  },
  {
   "cell_type": "code",
   "execution_count": 18,
   "metadata": {},
   "outputs": [],
   "source": [
    "def get_top_course(g):\n",
    "    return g['course'].value_counts().idxmax() \n",
    "def get_top_course_freq(g):\n",
    "    return g['course'].value_counts().max() \n",
    "# topdf = train_df.groupby('student_id').course.value_counts()\n",
    "topdf = train_course_df.groupby('student_id',as_index=False).apply(get_top_course)\n",
    "topdf1 = train_course_df.groupby('student_id',as_index=False).apply(get_top_course_freq)\n",
    "\n",
    "\n",
    "type(topdf.values)\n",
    "coloumns = ['favcourse']\n",
    "coloumns1 = ['freq_fc']\n",
    "\n",
    "df5 = pd.DataFrame(topdf,columns=coloumns)\n",
    "df4 = pd.DataFrame(topdf1,columns=coloumns1)\n",
    "\n",
    "train_df['freq_fc'] = df4['freq_fc']\n",
    "train_df['favcourse'] = df5['favcourse']"
   ]
  },
  {
   "cell_type": "code",
   "execution_count": 19,
   "metadata": {},
   "outputs": [
    {
     "data": {
      "text/html": [
       "<div>\n",
       "<style scoped>\n",
       "    .dataframe tbody tr th:only-of-type {\n",
       "        vertical-align: middle;\n",
       "    }\n",
       "\n",
       "    .dataframe tbody tr th {\n",
       "        vertical-align: top;\n",
       "    }\n",
       "\n",
       "    .dataframe thead tr th {\n",
       "        text-align: left;\n",
       "    }\n",
       "</style>\n",
       "<table border=\"1\" class=\"dataframe\">\n",
       "  <thead>\n",
       "    <tr>\n",
       "      <th></th>\n",
       "      <th>student_id</th>\n",
       "      <th colspan=\"3\" halign=\"left\">grade</th>\n",
       "      <th>level</th>\n",
       "      <th>major</th>\n",
       "      <th>freq_fc</th>\n",
       "      <th>favcourse</th>\n",
       "    </tr>\n",
       "    <tr>\n",
       "      <th></th>\n",
       "      <th></th>\n",
       "      <th>grade_sum</th>\n",
       "      <th>grade_mean</th>\n",
       "      <th>grade_count</th>\n",
       "      <th>level</th>\n",
       "      <th>major</th>\n",
       "      <th></th>\n",
       "      <th></th>\n",
       "    </tr>\n",
       "  </thead>\n",
       "  <tbody>\n",
       "    <tr>\n",
       "      <th>0</th>\n",
       "      <td>01DiJuoJAB395ucJ</td>\n",
       "      <td>16</td>\n",
       "      <td>16.000000</td>\n",
       "      <td>1</td>\n",
       "      <td>3.000000</td>\n",
       "      <td>13</td>\n",
       "      <td>1</td>\n",
       "      <td>MSCI</td>\n",
       "    </tr>\n",
       "    <tr>\n",
       "      <th>1</th>\n",
       "      <td>01MhxeQl5FhRsf3f</td>\n",
       "      <td>13</td>\n",
       "      <td>13.000000</td>\n",
       "      <td>1</td>\n",
       "      <td>0.000000</td>\n",
       "      <td>11</td>\n",
       "      <td>1</td>\n",
       "      <td>SPAN</td>\n",
       "    </tr>\n",
       "    <tr>\n",
       "      <th>2</th>\n",
       "      <td>01W7KB8TDNWNx4YW</td>\n",
       "      <td>197</td>\n",
       "      <td>15.153846</td>\n",
       "      <td>13</td>\n",
       "      <td>1.923077</td>\n",
       "      <td>67</td>\n",
       "      <td>5</td>\n",
       "      <td>PSY</td>\n",
       "    </tr>\n",
       "    <tr>\n",
       "      <th>3</th>\n",
       "      <td>042Rmpv5B2kXdfBR</td>\n",
       "      <td>15</td>\n",
       "      <td>15.000000</td>\n",
       "      <td>1</td>\n",
       "      <td>2.000000</td>\n",
       "      <td>20</td>\n",
       "      <td>1</td>\n",
       "      <td>POLI</td>\n",
       "    </tr>\n",
       "    <tr>\n",
       "      <th>4</th>\n",
       "      <td>04DuzbneGqk0o0jY</td>\n",
       "      <td>17</td>\n",
       "      <td>17.000000</td>\n",
       "      <td>1</td>\n",
       "      <td>1.000000</td>\n",
       "      <td>29</td>\n",
       "      <td>1</td>\n",
       "      <td>STAT</td>\n",
       "    </tr>\n",
       "  </tbody>\n",
       "</table>\n",
       "</div>"
      ],
      "text/plain": [
       "         student_id     grade                            level major freq_fc  \\\n",
       "                    grade_sum grade_mean grade_count     level major           \n",
       "0  01DiJuoJAB395ucJ        16  16.000000           1  3.000000    13       1   \n",
       "1  01MhxeQl5FhRsf3f        13  13.000000           1  0.000000    11       1   \n",
       "2  01W7KB8TDNWNx4YW       197  15.153846          13  1.923077    67       5   \n",
       "3  042Rmpv5B2kXdfBR        15  15.000000           1  2.000000    20       1   \n",
       "4  04DuzbneGqk0o0jY        17  17.000000           1  1.000000    29       1   \n",
       "\n",
       "  favcourse  \n",
       "             \n",
       "0      MSCI  \n",
       "1      SPAN  \n",
       "2       PSY  \n",
       "3      POLI  \n",
       "4      STAT  "
      ]
     },
     "execution_count": 19,
     "metadata": {},
     "output_type": "execute_result"
    }
   ],
   "source": [
    "train_df.head()\n",
    "# train_df.describe()"
   ]
  },
  {
   "cell_type": "markdown",
   "metadata": {},
   "source": [
    "### Resetting MultiIndex dataframe and falttening it"
   ]
  },
  {
   "cell_type": "code",
   "execution_count": 20,
   "metadata": {},
   "outputs": [
    {
     "data": {
      "text/html": [
       "<div>\n",
       "<style scoped>\n",
       "    .dataframe tbody tr th:only-of-type {\n",
       "        vertical-align: middle;\n",
       "    }\n",
       "\n",
       "    .dataframe tbody tr th {\n",
       "        vertical-align: top;\n",
       "    }\n",
       "\n",
       "    .dataframe thead th {\n",
       "        text-align: right;\n",
       "    }\n",
       "</style>\n",
       "<table border=\"1\" class=\"dataframe\">\n",
       "  <thead>\n",
       "    <tr style=\"text-align: right;\">\n",
       "      <th></th>\n",
       "      <th>student_id</th>\n",
       "      <th>grade_sum</th>\n",
       "      <th>grade_mean</th>\n",
       "      <th>grade_count</th>\n",
       "      <th>level</th>\n",
       "      <th>major</th>\n",
       "      <th>freq_fc</th>\n",
       "      <th>favcourse</th>\n",
       "    </tr>\n",
       "  </thead>\n",
       "  <tbody>\n",
       "    <tr>\n",
       "      <th>0</th>\n",
       "      <td>01DiJuoJAB395ucJ</td>\n",
       "      <td>16</td>\n",
       "      <td>16.000000</td>\n",
       "      <td>1</td>\n",
       "      <td>3.000000</td>\n",
       "      <td>13</td>\n",
       "      <td>1</td>\n",
       "      <td>MSCI</td>\n",
       "    </tr>\n",
       "    <tr>\n",
       "      <th>1</th>\n",
       "      <td>01MhxeQl5FhRsf3f</td>\n",
       "      <td>13</td>\n",
       "      <td>13.000000</td>\n",
       "      <td>1</td>\n",
       "      <td>0.000000</td>\n",
       "      <td>11</td>\n",
       "      <td>1</td>\n",
       "      <td>SPAN</td>\n",
       "    </tr>\n",
       "    <tr>\n",
       "      <th>2</th>\n",
       "      <td>01W7KB8TDNWNx4YW</td>\n",
       "      <td>197</td>\n",
       "      <td>15.153846</td>\n",
       "      <td>13</td>\n",
       "      <td>1.923077</td>\n",
       "      <td>67</td>\n",
       "      <td>5</td>\n",
       "      <td>PSY</td>\n",
       "    </tr>\n",
       "    <tr>\n",
       "      <th>3</th>\n",
       "      <td>042Rmpv5B2kXdfBR</td>\n",
       "      <td>15</td>\n",
       "      <td>15.000000</td>\n",
       "      <td>1</td>\n",
       "      <td>2.000000</td>\n",
       "      <td>20</td>\n",
       "      <td>1</td>\n",
       "      <td>POLI</td>\n",
       "    </tr>\n",
       "    <tr>\n",
       "      <th>4</th>\n",
       "      <td>04DuzbneGqk0o0jY</td>\n",
       "      <td>17</td>\n",
       "      <td>17.000000</td>\n",
       "      <td>1</td>\n",
       "      <td>1.000000</td>\n",
       "      <td>29</td>\n",
       "      <td>1</td>\n",
       "      <td>STAT</td>\n",
       "    </tr>\n",
       "  </tbody>\n",
       "</table>\n",
       "</div>"
      ],
      "text/plain": [
       "         student_id  grade_sum  grade_mean  grade_count     level  major  \\\n",
       "0  01DiJuoJAB395ucJ         16   16.000000            1  3.000000     13   \n",
       "1  01MhxeQl5FhRsf3f         13   13.000000            1  0.000000     11   \n",
       "2  01W7KB8TDNWNx4YW        197   15.153846           13  1.923077     67   \n",
       "3  042Rmpv5B2kXdfBR         15   15.000000            1  2.000000     20   \n",
       "4  04DuzbneGqk0o0jY         17   17.000000            1  1.000000     29   \n",
       "\n",
       "   freq_fc favcourse  \n",
       "0        1      MSCI  \n",
       "1        1      SPAN  \n",
       "2        5       PSY  \n",
       "3        1      POLI  \n",
       "4        1      STAT  "
      ]
     },
     "execution_count": 20,
     "metadata": {},
     "output_type": "execute_result"
    }
   ],
   "source": [
    "train_df.columns = [f'{s}' if s != '' else f'{f}' \n",
    "              for f, s in train_df.columns]\n",
    "\n",
    "train_df.head()\n"
   ]
  },
  {
   "cell_type": "markdown",
   "metadata": {},
   "source": [
    "## To check if our data has any null/NaN value or any missing value"
   ]
  },
  {
   "cell_type": "code",
   "execution_count": 21,
   "metadata": {},
   "outputs": [
    {
     "data": {
      "text/html": [
       "<div>\n",
       "<style scoped>\n",
       "    .dataframe tbody tr th:only-of-type {\n",
       "        vertical-align: middle;\n",
       "    }\n",
       "\n",
       "    .dataframe tbody tr th {\n",
       "        vertical-align: top;\n",
       "    }\n",
       "\n",
       "    .dataframe thead th {\n",
       "        text-align: right;\n",
       "    }\n",
       "</style>\n",
       "<table border=\"1\" class=\"dataframe\">\n",
       "  <thead>\n",
       "    <tr style=\"text-align: right;\">\n",
       "      <th></th>\n",
       "      <th>Total</th>\n",
       "      <th>%</th>\n",
       "    </tr>\n",
       "  </thead>\n",
       "  <tbody>\n",
       "    <tr>\n",
       "      <th>favcourse</th>\n",
       "      <td>0</td>\n",
       "      <td>0.0</td>\n",
       "    </tr>\n",
       "    <tr>\n",
       "      <th>freq_fc</th>\n",
       "      <td>0</td>\n",
       "      <td>0.0</td>\n",
       "    </tr>\n",
       "    <tr>\n",
       "      <th>major</th>\n",
       "      <td>0</td>\n",
       "      <td>0.0</td>\n",
       "    </tr>\n",
       "    <tr>\n",
       "      <th>level</th>\n",
       "      <td>0</td>\n",
       "      <td>0.0</td>\n",
       "    </tr>\n",
       "    <tr>\n",
       "      <th>grade_count</th>\n",
       "      <td>0</td>\n",
       "      <td>0.0</td>\n",
       "    </tr>\n",
       "  </tbody>\n",
       "</table>\n",
       "</div>"
      ],
      "text/plain": [
       "             Total    %\n",
       "favcourse        0  0.0\n",
       "freq_fc          0  0.0\n",
       "major            0  0.0\n",
       "level            0  0.0\n",
       "grade_count      0  0.0"
      ]
     },
     "execution_count": 21,
     "metadata": {},
     "output_type": "execute_result"
    }
   ],
   "source": [
    "total = train_df.isnull().sum().sort_values(ascending=False)\n",
    "percent_1 = train_df.isnull().sum()/train_df.isnull().count()*100\n",
    "percent_2 = (round(percent_1, 1)).sort_values(ascending=False)\n",
    "missing_data = pd.concat([total, percent_2], axis=1, keys=['Total', '%'])\n",
    "missing_data.head(5)"
   ]
  },
  {
   "cell_type": "code",
   "execution_count": 22,
   "metadata": {},
   "outputs": [],
   "source": [
    "# train_df['freq'] = train_df.groupby('student_id').transform(\n",
    "#     lambda x: x.course.sum()\n",
    "# )\n",
    "# train_df.head()"
   ]
  },
  {
   "cell_type": "markdown",
   "metadata": {},
   "source": [
    "## Now since we have course that was taken most frequently , this is the only nominal attribute that we have.\n",
    "I encoded these using similar method into random integers."
   ]
  },
  {
   "cell_type": "code",
   "execution_count": 23,
   "metadata": {},
   "outputs": [],
   "source": [
    "revert = dict([(code,category) for code, category in enumerate(train_df.favcourse.astype('category').cat.categories)])\n",
    "train_df['favcourse'] = train_df['favcourse'].astype('category').cat.codes"
   ]
  },
  {
   "cell_type": "code",
   "execution_count": 24,
   "metadata": {},
   "outputs": [
    {
     "data": {
      "text/plain": [
       "{0: 'ACCT',\n",
       " 1: 'ACTS',\n",
       " 2: 'AERO',\n",
       " 3: 'AFAM',\n",
       " 4: 'AINS',\n",
       " 5: 'AMST',\n",
       " 6: 'ANTH',\n",
       " 7: 'ARAB',\n",
       " 8: 'ARTH',\n",
       " 9: 'ARTS',\n",
       " 10: 'ASIA',\n",
       " 11: 'ASL',\n",
       " 12: 'ASP',\n",
       " 13: 'ASTR',\n",
       " 14: 'ATEP',\n",
       " 15: 'BIOC',\n",
       " 16: 'BIOL',\n",
       " 17: 'BUS',\n",
       " 18: 'CBE',\n",
       " 19: 'CCP',\n",
       " 20: 'CEE',\n",
       " 21: 'CERM',\n",
       " 22: 'CHEM',\n",
       " 23: 'CHIN',\n",
       " 24: 'CINE',\n",
       " 25: 'CLSA',\n",
       " 26: 'CLSL',\n",
       " 27: 'CNW',\n",
       " 28: 'COMM',\n",
       " 29: 'CPH',\n",
       " 30: 'CRIM',\n",
       " 31: 'CS',\n",
       " 32: 'CSD',\n",
       " 33: 'CSI',\n",
       " 34: 'CW',\n",
       " 35: 'DANC',\n",
       " 36: 'DPA',\n",
       " 37: 'DST',\n",
       " 38: 'ECE',\n",
       " 39: 'ECON',\n",
       " 40: 'EDTL',\n",
       " 41: 'EES',\n",
       " 42: 'ENGL',\n",
       " 43: 'ENGR',\n",
       " 44: 'ENTR',\n",
       " 45: 'ESL',\n",
       " 46: 'FIN',\n",
       " 47: 'FREN',\n",
       " 48: 'FYP',\n",
       " 49: 'GEOG',\n",
       " 50: 'GHS',\n",
       " 51: 'GRMN',\n",
       " 52: 'GWSS',\n",
       " 53: 'HHP',\n",
       " 54: 'HIST',\n",
       " 55: 'HONR',\n",
       " 56: 'HPAS',\n",
       " 57: 'IBA',\n",
       " 58: 'IE',\n",
       " 59: 'IIEP',\n",
       " 60: 'IS',\n",
       " 61: 'ITAL',\n",
       " 62: 'JMC',\n",
       " 63: 'JPNS',\n",
       " 64: 'LAS',\n",
       " 65: 'LEIS',\n",
       " 66: 'LING',\n",
       " 67: 'LLS',\n",
       " 68: 'LS',\n",
       " 69: 'MATH',\n",
       " 70: 'MGMT',\n",
       " 71: 'MICR',\n",
       " 72: 'MILS',\n",
       " 73: 'MKTG',\n",
       " 74: 'MSCI',\n",
       " 75: 'MUS',\n",
       " 76: 'MUSM',\n",
       " 77: 'NURS',\n",
       " 78: 'PCOL',\n",
       " 79: 'PHIL',\n",
       " 80: 'PHYS',\n",
       " 81: 'POLI',\n",
       " 82: 'PSQF',\n",
       " 83: 'PSY',\n",
       " 84: 'RCE',\n",
       " 85: 'RELS',\n",
       " 86: 'RHET',\n",
       " 87: 'RSCI',\n",
       " 88: 'RSCT',\n",
       " 89: 'RSMR',\n",
       " 90: 'RSMS',\n",
       " 91: 'RSNM',\n",
       " 92: 'RSRT',\n",
       " 93: 'SCLP',\n",
       " 94: 'SLAV',\n",
       " 95: 'SOC',\n",
       " 96: 'SPAN',\n",
       " 97: 'SPST',\n",
       " 98: 'SRM',\n",
       " 99: 'SSW',\n",
       " 100: 'STAT',\n",
       " 101: 'STS',\n",
       " 102: 'SWAH',\n",
       " 103: 'THTR',\n",
       " 104: 'TR',\n",
       " 105: 'WRIT'}"
      ]
     },
     "execution_count": 24,
     "metadata": {},
     "output_type": "execute_result"
    }
   ],
   "source": [
    "revert"
   ]
  },
  {
   "cell_type": "markdown",
   "metadata": {},
   "source": [
    "### Since I feel that this is the point where I have collected all my features, I applie chiSquare test to verify if these featues are correlated to my output variable or not"
   ]
  },
  {
   "cell_type": "code",
   "execution_count": 25,
   "metadata": {},
   "outputs": [
    {
     "name": "stdout",
     "output_type": "stream",
     "text": [
      "favcourse is IMPORTANT for Prediction\n",
      "freq_fc is IMPORTANT for Prediction\n",
      "grade_sum is IMPORTANT for Prediction\n",
      "grade_mean is IMPORTANT for Prediction\n",
      "grade_count is IMPORTANT for Prediction\n",
      "level is IMPORTANT for Prediction\n"
     ]
    }
   ],
   "source": [
    "import pandas as pd\n",
    "import numpy as np\n",
    "import scipy.stats as stats\n",
    "from scipy.stats import chi2_contingency\n",
    "\n",
    "class ChiSquare:\n",
    "    def __init__(self, dataframe):\n",
    "        self.df = dataframe\n",
    "        self.p = None #P-Value\n",
    "        self.chi2 = None #Chi Test Statistic\n",
    "        self.dof = None\n",
    "        \n",
    "        self.dfObserved = None\n",
    "        self.dfExpected = None\n",
    "        \n",
    "    def _print_chisquare_result(self, colX, alpha):\n",
    "        result = \"\"\n",
    "        if self.p<alpha:\n",
    "            result=\"{0} is IMPORTANT for Prediction\".format(colX)\n",
    "        else:\n",
    "            result=\"{0} is NOT an important predictor. (Discard {0} from model)\".format(colX)\n",
    "\n",
    "        print(result)\n",
    "        \n",
    "    def TestIndependence(self,colX,colY, alpha=0.05):\n",
    "        X = self.df[colX].astype(str)\n",
    "        Y = self.df[colY].astype(str)\n",
    "        \n",
    "        self.dfObserved = pd.crosstab(Y,X) \n",
    "        chi2, p, dof, expected = stats.chi2_contingency(self.dfObserved.values)\n",
    "        self.p = p\n",
    "        self.chi2 = chi2\n",
    "        self.dof = dof \n",
    "        \n",
    "        self.dfExpected = pd.DataFrame(expected, columns=self.dfObserved.columns, index = self.dfObserved.index)\n",
    "        \n",
    "        self._print_chisquare_result(colX,alpha)\n",
    "\n",
    "\n",
    "#Initialize ChiSquare Class\n",
    "cT = ChiSquare(train_df)\n",
    "# train_df.columns\n",
    "# Feature Selection\n",
    "testColumns = ['favcourse', 'freq_fc', 'grade_sum','grade_mean','grade_count','level']\n",
    "for var in testColumns:\n",
    "    cT.TestIndependence(colX=var,colY=\"major\" ) "
   ]
  },
  {
   "cell_type": "markdown",
   "metadata": {},
   "source": [
    "## So all the features seem to be important for predicting our output!\n",
    "Let's check if they are related to one another "
   ]
  },
  {
   "cell_type": "code",
   "execution_count": 26,
   "metadata": {},
   "outputs": [
    {
     "data": {
      "text/plain": [
       "{'grade_count'}"
      ]
     },
     "execution_count": 26,
     "metadata": {},
     "output_type": "execute_result"
    }
   ],
   "source": [
    "correlated_features = set()  \n",
    "correlation_matrix = train_df.corr()  \n",
    "for i in range(len(correlation_matrix .columns)):  \n",
    "    for j in range(i):\n",
    "        if abs(correlation_matrix.iloc[i, j]) > 0.85:\n",
    "            colname = correlation_matrix.columns[i]\n",
    "            correlated_features.add(colname)\n",
    "(correlated_features)"
   ]
  },
  {
   "cell_type": "code",
   "execution_count": 27,
   "metadata": {},
   "outputs": [
    {
     "data": {
      "text/html": [
       "<div>\n",
       "<style scoped>\n",
       "    .dataframe tbody tr th:only-of-type {\n",
       "        vertical-align: middle;\n",
       "    }\n",
       "\n",
       "    .dataframe tbody tr th {\n",
       "        vertical-align: top;\n",
       "    }\n",
       "\n",
       "    .dataframe thead th {\n",
       "        text-align: right;\n",
       "    }\n",
       "</style>\n",
       "<table border=\"1\" class=\"dataframe\">\n",
       "  <thead>\n",
       "    <tr style=\"text-align: right;\">\n",
       "      <th></th>\n",
       "      <th>student_id</th>\n",
       "      <th>grade_sum</th>\n",
       "      <th>grade_mean</th>\n",
       "      <th>level</th>\n",
       "      <th>major</th>\n",
       "      <th>freq_fc</th>\n",
       "      <th>favcourse</th>\n",
       "    </tr>\n",
       "  </thead>\n",
       "  <tbody>\n",
       "    <tr>\n",
       "      <th>0</th>\n",
       "      <td>01DiJuoJAB395ucJ</td>\n",
       "      <td>16</td>\n",
       "      <td>16.000000</td>\n",
       "      <td>3.000000</td>\n",
       "      <td>13</td>\n",
       "      <td>1</td>\n",
       "      <td>74</td>\n",
       "    </tr>\n",
       "    <tr>\n",
       "      <th>1</th>\n",
       "      <td>01MhxeQl5FhRsf3f</td>\n",
       "      <td>13</td>\n",
       "      <td>13.000000</td>\n",
       "      <td>0.000000</td>\n",
       "      <td>11</td>\n",
       "      <td>1</td>\n",
       "      <td>96</td>\n",
       "    </tr>\n",
       "    <tr>\n",
       "      <th>2</th>\n",
       "      <td>01W7KB8TDNWNx4YW</td>\n",
       "      <td>197</td>\n",
       "      <td>15.153846</td>\n",
       "      <td>1.923077</td>\n",
       "      <td>67</td>\n",
       "      <td>5</td>\n",
       "      <td>83</td>\n",
       "    </tr>\n",
       "    <tr>\n",
       "      <th>3</th>\n",
       "      <td>042Rmpv5B2kXdfBR</td>\n",
       "      <td>15</td>\n",
       "      <td>15.000000</td>\n",
       "      <td>2.000000</td>\n",
       "      <td>20</td>\n",
       "      <td>1</td>\n",
       "      <td>81</td>\n",
       "    </tr>\n",
       "    <tr>\n",
       "      <th>4</th>\n",
       "      <td>04DuzbneGqk0o0jY</td>\n",
       "      <td>17</td>\n",
       "      <td>17.000000</td>\n",
       "      <td>1.000000</td>\n",
       "      <td>29</td>\n",
       "      <td>1</td>\n",
       "      <td>100</td>\n",
       "    </tr>\n",
       "  </tbody>\n",
       "</table>\n",
       "</div>"
      ],
      "text/plain": [
       "         student_id  grade_sum  grade_mean     level  major  freq_fc  \\\n",
       "0  01DiJuoJAB395ucJ         16   16.000000  3.000000     13        1   \n",
       "1  01MhxeQl5FhRsf3f         13   13.000000  0.000000     11        1   \n",
       "2  01W7KB8TDNWNx4YW        197   15.153846  1.923077     67        5   \n",
       "3  042Rmpv5B2kXdfBR         15   15.000000  2.000000     20        1   \n",
       "4  04DuzbneGqk0o0jY         17   17.000000  1.000000     29        1   \n",
       "\n",
       "   favcourse  \n",
       "0         74  \n",
       "1         96  \n",
       "2         83  \n",
       "3         81  \n",
       "4        100  "
      ]
     },
     "execution_count": 27,
     "metadata": {},
     "output_type": "execute_result"
    }
   ],
   "source": [
    "correlation_matrix\n",
    "train_df = train_df.drop('grade_count',axis = 1)\n",
    "train_df.head()"
   ]
  },
  {
   "cell_type": "code",
   "execution_count": 28,
   "metadata": {},
   "outputs": [
    {
     "data": {
      "text/html": [
       "<div>\n",
       "<style scoped>\n",
       "    .dataframe tbody tr th:only-of-type {\n",
       "        vertical-align: middle;\n",
       "    }\n",
       "\n",
       "    .dataframe tbody tr th {\n",
       "        vertical-align: top;\n",
       "    }\n",
       "\n",
       "    .dataframe thead th {\n",
       "        text-align: right;\n",
       "    }\n",
       "</style>\n",
       "<table border=\"1\" class=\"dataframe\">\n",
       "  <thead>\n",
       "    <tr style=\"text-align: right;\">\n",
       "      <th></th>\n",
       "      <th>student_id</th>\n",
       "      <th>grade_sum</th>\n",
       "      <th>grade_mean</th>\n",
       "      <th>level</th>\n",
       "      <th>major</th>\n",
       "      <th>freq_fc</th>\n",
       "      <th>favcourse</th>\n",
       "    </tr>\n",
       "  </thead>\n",
       "  <tbody>\n",
       "    <tr>\n",
       "      <th>0</th>\n",
       "      <td>01DiJuoJAB395ucJ</td>\n",
       "      <td>16</td>\n",
       "      <td>16.000000</td>\n",
       "      <td>3.000000</td>\n",
       "      <td>13</td>\n",
       "      <td>1</td>\n",
       "      <td>74</td>\n",
       "    </tr>\n",
       "    <tr>\n",
       "      <th>1</th>\n",
       "      <td>01MhxeQl5FhRsf3f</td>\n",
       "      <td>13</td>\n",
       "      <td>13.000000</td>\n",
       "      <td>0.000000</td>\n",
       "      <td>11</td>\n",
       "      <td>1</td>\n",
       "      <td>96</td>\n",
       "    </tr>\n",
       "    <tr>\n",
       "      <th>2</th>\n",
       "      <td>01W7KB8TDNWNx4YW</td>\n",
       "      <td>197</td>\n",
       "      <td>15.153846</td>\n",
       "      <td>1.923077</td>\n",
       "      <td>67</td>\n",
       "      <td>5</td>\n",
       "      <td>83</td>\n",
       "    </tr>\n",
       "    <tr>\n",
       "      <th>3</th>\n",
       "      <td>042Rmpv5B2kXdfBR</td>\n",
       "      <td>15</td>\n",
       "      <td>15.000000</td>\n",
       "      <td>2.000000</td>\n",
       "      <td>20</td>\n",
       "      <td>1</td>\n",
       "      <td>81</td>\n",
       "    </tr>\n",
       "    <tr>\n",
       "      <th>4</th>\n",
       "      <td>04DuzbneGqk0o0jY</td>\n",
       "      <td>17</td>\n",
       "      <td>17.000000</td>\n",
       "      <td>1.000000</td>\n",
       "      <td>29</td>\n",
       "      <td>1</td>\n",
       "      <td>100</td>\n",
       "    </tr>\n",
       "  </tbody>\n",
       "</table>\n",
       "</div>"
      ],
      "text/plain": [
       "         student_id  grade_sum  grade_mean     level  major  freq_fc  \\\n",
       "0  01DiJuoJAB395ucJ         16   16.000000  3.000000     13        1   \n",
       "1  01MhxeQl5FhRsf3f         13   13.000000  0.000000     11        1   \n",
       "2  01W7KB8TDNWNx4YW        197   15.153846  1.923077     67        5   \n",
       "3  042Rmpv5B2kXdfBR         15   15.000000  2.000000     20        1   \n",
       "4  04DuzbneGqk0o0jY         17   17.000000  1.000000     29        1   \n",
       "\n",
       "   favcourse  \n",
       "0         74  \n",
       "1         96  \n",
       "2         83  \n",
       "3         81  \n",
       "4        100  "
      ]
     },
     "execution_count": 28,
     "metadata": {},
     "output_type": "execute_result"
    }
   ],
   "source": [
    "train_df.head()"
   ]
  },
  {
   "cell_type": "code",
   "execution_count": 29,
   "metadata": {},
   "outputs": [
    {
     "data": {
      "text/plain": [
       "<matplotlib.axes._subplots.AxesSubplot at 0x1cda76b0128>"
      ]
     },
     "execution_count": 29,
     "metadata": {},
     "output_type": "execute_result"
    },
    {
     "data": {
      "image/png": "[encoded data removed]",
      "text/plain": [
       "<Figure size 432x288 with 1 Axes>"
      ]
     },
     "metadata": {
      "needs_background": "light"
     },
     "output_type": "display_data"
    }
   ],
   "source": [
    "import seaborn as sns\n",
    "sns.boxplot(x=train_df['favcourse'])"
   ]
  },
  {
   "cell_type": "code",
   "execution_count": null,
   "metadata": {},
   "outputs": [],
   "source": []
  },
  {
   "cell_type": "code",
   "execution_count": 30,
   "metadata": {},
   "outputs": [
    {
     "data": {
      "text/plain": [
       "count    9991.000000\n",
       "mean       32.394255\n",
       "std        21.031308\n",
       "min         0.000000\n",
       "25%        11.000000\n",
       "50%        28.000000\n",
       "75%        52.000000\n",
       "max        79.000000\n",
       "Name: major, dtype: float64"
      ]
     },
     "execution_count": 30,
     "metadata": {},
     "output_type": "execute_result"
    }
   ],
   "source": [
    "train_df['major'].describe()"
   ]
  },
  {
   "cell_type": "markdown",
   "metadata": {},
   "source": [
    "## Now we simply split our overall data into training and testing so that we will be able to evaluate our models.\n",
    "### Importantly, we need to drop student_id and major from our features set and our prediction must only contain our encoded majors"
   ]
  },
  {
   "cell_type": "code",
   "execution_count": 31,
   "metadata": {},
   "outputs": [],
   "source": [
    "train_df.head()\n",
    "#train_df = train_df.drop('student_id',axis=1)\n",
    "df_train, df_test = train_test_split(train_df, test_size=0.2,stratify=train_df['major'].values>40)\n",
    "df_train, df_valid = train_test_split(df_train, test_size=0.33)\n",
    "X_test = df_test.drop('major',axis = 1)\n",
    "X_train = df_train.drop('major',axis=1)\n",
    "\n",
    "\n",
    "X_train = X_train.drop('student_id',axis=1)\n",
    "\n",
    "X_test = X_test.drop('student_id',axis = 1)\n",
    "\n",
    "Y_train =  df_train['major']\n",
    "Y_test = df_test['major']"
   ]
  },
  {
   "cell_type": "code",
   "execution_count": 32,
   "metadata": {},
   "outputs": [],
   "source": [
    "df_valid.head()\n",
    "Y_valid = df_valid['major']\n",
    "X_valid = df_valid.drop('student_id',axis=1)\n",
    "X_valid = X_valid.drop('major',axis=1)"
   ]
  },
  {
   "cell_type": "code",
   "execution_count": 33,
   "metadata": {},
   "outputs": [
    {
     "data": {
      "text/html": [
       "<div>\n",
       "<style scoped>\n",
       "    .dataframe tbody tr th:only-of-type {\n",
       "        vertical-align: middle;\n",
       "    }\n",
       "\n",
       "    .dataframe tbody tr th {\n",
       "        vertical-align: top;\n",
       "    }\n",
       "\n",
       "    .dataframe thead th {\n",
       "        text-align: right;\n",
       "    }\n",
       "</style>\n",
       "<table border=\"1\" class=\"dataframe\">\n",
       "  <thead>\n",
       "    <tr style=\"text-align: right;\">\n",
       "      <th></th>\n",
       "      <th>grade_sum</th>\n",
       "      <th>grade_mean</th>\n",
       "      <th>level</th>\n",
       "      <th>freq_fc</th>\n",
       "      <th>favcourse</th>\n",
       "    </tr>\n",
       "  </thead>\n",
       "  <tbody>\n",
       "    <tr>\n",
       "      <th>4937</th>\n",
       "      <td>223</td>\n",
       "      <td>18.583333</td>\n",
       "      <td>2.416667</td>\n",
       "      <td>6</td>\n",
       "      <td>90</td>\n",
       "    </tr>\n",
       "    <tr>\n",
       "      <th>3170</th>\n",
       "      <td>246</td>\n",
       "      <td>14.470588</td>\n",
       "      <td>1.411765</td>\n",
       "      <td>3</td>\n",
       "      <td>81</td>\n",
       "    </tr>\n",
       "    <tr>\n",
       "      <th>3479</th>\n",
       "      <td>60</td>\n",
       "      <td>15.000000</td>\n",
       "      <td>2.000000</td>\n",
       "      <td>1</td>\n",
       "      <td>11</td>\n",
       "    </tr>\n",
       "    <tr>\n",
       "      <th>5574</th>\n",
       "      <td>227</td>\n",
       "      <td>13.352941</td>\n",
       "      <td>1.823529</td>\n",
       "      <td>3</td>\n",
       "      <td>65</td>\n",
       "    </tr>\n",
       "    <tr>\n",
       "      <th>4692</th>\n",
       "      <td>385</td>\n",
       "      <td>12.833333</td>\n",
       "      <td>2.266667</td>\n",
       "      <td>8</td>\n",
       "      <td>95</td>\n",
       "    </tr>\n",
       "  </tbody>\n",
       "</table>\n",
       "</div>"
      ],
      "text/plain": [
       "      grade_sum  grade_mean     level  freq_fc  favcourse\n",
       "4937        223   18.583333  2.416667        6         90\n",
       "3170        246   14.470588  1.411765        3         81\n",
       "3479         60   15.000000  2.000000        1         11\n",
       "5574        227   13.352941  1.823529        3         65\n",
       "4692        385   12.833333  2.266667        8         95"
      ]
     },
     "execution_count": 33,
     "metadata": {},
     "output_type": "execute_result"
    }
   ],
   "source": [
    "X_train.head()"
   ]
  },
  {
   "cell_type": "code",
   "execution_count": 34,
   "metadata": {},
   "outputs": [
    {
     "data": {
      "text/plain": [
       "4937    69\n",
       "3170    39\n",
       "3479    65\n",
       "5574    48\n",
       "4692    73\n",
       "Name: major, dtype: int8"
      ]
     },
     "execution_count": 34,
     "metadata": {},
     "output_type": "execute_result"
    }
   ],
   "source": [
    "Y_train.head()"
   ]
  },
  {
   "cell_type": "markdown",
   "metadata": {},
   "source": [
    "### Trying out all models one by one"
   ]
  },
  {
   "cell_type": "markdown",
   "metadata": {},
   "source": [
    "### KNN Classifier with 1 neighbour"
   ]
  },
  {
   "cell_type": "code",
   "execution_count": 35,
   "metadata": {},
   "outputs": [
    {
     "data": {
      "text/plain": [
       "0.6833416708354177"
      ]
     },
     "execution_count": 35,
     "metadata": {},
     "output_type": "execute_result"
    }
   ],
   "source": [
    "neigh = KNeighborsClassifier(n_neighbors=1)\n",
    "nfit = neigh.fit(X_train, Y_train)\n",
    "result1 = nfit.predict(X_test)\n",
    "accuracy_score(Y_test, result1)"
   ]
  },
  {
   "cell_type": "markdown",
   "metadata": {},
   "source": [
    "### KNN Classifier with 10 neighbours"
   ]
  },
  {
   "cell_type": "code",
   "execution_count": 36,
   "metadata": {
    "scrolled": true
   },
   "outputs": [
    {
     "data": {
      "text/plain": [
       "0.6833416708354177"
      ]
     },
     "execution_count": 36,
     "metadata": {},
     "output_type": "execute_result"
    }
   ],
   "source": [
    "neigh = KNeighborsClassifier(n_neighbors=1)\n",
    "nfit = neigh.fit(X_train, Y_train)\n",
    "result1 = nfit.predict(X_test)\n",
    "accuracy_score(Y_test, result1)"
   ]
  },
  {
   "cell_type": "markdown",
   "metadata": {},
   "source": [
    "### RadiusNeighborsClassifier"
   ]
  },
  {
   "cell_type": "code",
   "execution_count": 37,
   "metadata": {},
   "outputs": [
    {
     "data": {
      "text/plain": [
       "0.5142571285642822"
      ]
     },
     "execution_count": 37,
     "metadata": {},
     "output_type": "execute_result"
    }
   ],
   "source": [
    "from sklearn.neighbors import RadiusNeighborsClassifier\n",
    "rneigh = RadiusNeighborsClassifier(radius=5,outlier_label = 1134)\n",
    "rneigh.fit(X_train, Y_train)\n",
    "rnc_pred = rneigh.predict(X_test)\n",
    "accuracy_score(Y_test, rnc_pred)"
   ]
  },
  {
   "cell_type": "markdown",
   "metadata": {},
   "source": [
    "### Decision Tree with validation split"
   ]
  },
  {
   "cell_type": "code",
   "execution_count": 38,
   "metadata": {},
   "outputs": [
    {
     "data": {
      "text/plain": [
       "DecisionTreeClassifier(class_weight=None, criterion='gini', max_depth=None,\n",
       "            max_features=None, max_leaf_nodes=None,\n",
       "            min_impurity_decrease=0.0, min_impurity_split=None,\n",
       "            min_samples_leaf=1, min_samples_split=2,\n",
       "            min_weight_fraction_leaf=0.0, presort=False, random_state=0,\n",
       "            splitter='best')"
      ]
     },
     "execution_count": 38,
     "metadata": {},
     "output_type": "execute_result"
    }
   ],
   "source": [
    "# cv_split = model_selection.ShuffleSplit(n_splits = 1000, test_size = .2, train_size = .6, random_state = 0)\n",
    "dtree = tree.DecisionTreeClassifier(random_state = 0)\n",
    "base_results = model_selection.cross_validate(dtree, X_train, Y_train, cv  = 5)\n",
    "dtree.fit(X_train, Y_train)"
   ]
  },
  {
   "cell_type": "code",
   "execution_count": 39,
   "metadata": {},
   "outputs": [
    {
     "data": {
      "text/plain": [
       "0.8549274637318659"
      ]
     },
     "execution_count": 39,
     "metadata": {},
     "output_type": "execute_result"
    }
   ],
   "source": [
    "from sklearn.metrics import balanced_accuracy_score\n",
    "from sklearn.metrics import confusion_matrix\n",
    "import numpy as np\n",
    "y3_pred = dtree.predict(X_test)\n",
    "accuracy_score(Y_test,y3_pred)"
   ]
  },
  {
   "cell_type": "markdown",
   "metadata": {},
   "source": [
    "### Cross Validated Score for decision tree to check overfitting"
   ]
  },
  {
   "cell_type": "code",
   "execution_count": 40,
   "metadata": {
    "scrolled": true
   },
   "outputs": [
    {
     "name": "stdout",
     "output_type": "stream",
     "text": [
      "Crossvalidated scores: [0.84320557 0.85035211 0.84050179 0.83484574 0.87060998 0.85768501\n",
      " 0.86486486 0.86132812 0.86166008 0.88577154]\n"
     ]
    }
   ],
   "source": [
    "from sklearn import metrics\n",
    "scores = cross_val_score(dtree, X_train, Y_train, cv=10)\n",
    "print (\"Crossvalidated scores:\", scores)"
   ]
  },
  {
   "cell_type": "markdown",
   "metadata": {},
   "source": [
    "### (Uncomment the cell below for: ) Visualizing the tree"
   ]
  },
  {
   "cell_type": "code",
   "execution_count": 41,
   "metadata": {
    "scrolled": false
   },
   "outputs": [],
   "source": [
    "# import graphviz \n",
    "# dot_data = tree.export_graphviz(dtree, out_file=None, \n",
    "#                                 feature_names = X_test.columns, class_names = True,\n",
    "#                                 filled = True, rounded = True)\n",
    "# graph = graphviz.Source(dot_data) \n",
    "# graph"
   ]
  },
  {
   "cell_type": "code",
   "execution_count": 42,
   "metadata": {},
   "outputs": [],
   "source": [
    "# prob = dtree.predict_proba(X_test)\n",
    "# arr = []\n",
    "# for i in range(len(Y_test)):\n",
    "#     arr.append(prob[i].argsort()[-3:][::-1])\n",
    "# df_ans = pd.DataFrame()\n",
    "# df_ans['pred'] = arr\n",
    "# df1 = pd.DataFrame(df_ans.pred.tolist(), columns=['major1', 'major2','major3'])\n",
    "# df1.replace(revert1.keys(),revert1.values())"
   ]
  },
  {
   "cell_type": "markdown",
   "metadata": {},
   "source": [
    "### The decision tree though giving better accuracy than above mentioned classifiers, \n",
    "### But for some of the instances,\n",
    "#### it gives only 1 best major with 1(highest probablity) and takes 2 other majors whose probablity is very close to 0"
   ]
  },
  {
   "cell_type": "code",
   "execution_count": 43,
   "metadata": {},
   "outputs": [],
   "source": [
    "# classprob1 = dtree.predict_proba(Xt_test)\n",
    "# arr = []\n",
    "# for i in range(len(Xt_test)):\n",
    "#     arr.append(classprob1[i].argsort()[-3:][::-1])\n",
    "# df_answer = pd.DataFrame()\n",
    "# df_answer['pred'] = arr\n",
    "# dftestans = pd.DataFrame(df_answer.pred.tolist(), columns=['major1', 'major2','major3'])\n",
    "# dftestans = dftestans.replace(revert1.keys(),revert1.values())\n",
    "# dftestans.describe()\n",
    "# test_df.columns = grouped.columns.droplevel(level=0)"
   ]
  },
  {
   "cell_type": "markdown",
   "metadata": {},
   "source": [
    "### Adaboost"
   ]
  },
  {
   "cell_type": "code",
   "execution_count": 44,
   "metadata": {},
   "outputs": [
    {
     "data": {
      "text/plain": [
       "0.8619309654827414"
      ]
     },
     "execution_count": 44,
     "metadata": {},
     "output_type": "execute_result"
    }
   ],
   "source": [
    "from sklearn.datasets import make_gaussian_quantiles\n",
    "from sklearn.ensemble import AdaBoostClassifier\n",
    "from sklearn.metrics import accuracy_score\n",
    "from sklearn.tree import DecisionTreeClassifier\n",
    "\n",
    "bdt_real = AdaBoostClassifier(DecisionTreeClassifier(random_state = 0),n_estimators=2000,learning_rate=0.5)\n",
    "bdt_real.fit(X_train, Y_train)\n",
    "real_test_predict = bdt_real.predict(X_test)\n",
    "accuracy_score(real_test_predict, Y_test)"
   ]
  },
  {
   "cell_type": "code",
   "execution_count": null,
   "metadata": {},
   "outputs": [],
   "source": []
  },
  {
   "cell_type": "code",
   "execution_count": 45,
   "metadata": {},
   "outputs": [],
   "source": [
    "# classprob1\n",
    "# classprob1[0]"
   ]
  },
  {
   "cell_type": "markdown",
   "metadata": {},
   "source": [
    "## Random Forest(To be compared)"
   ]
  },
  {
   "cell_type": "code",
   "execution_count": 46,
   "metadata": {},
   "outputs": [
    {
     "data": {
      "text/plain": [
       "0.848424212106053"
      ]
     },
     "execution_count": 46,
     "metadata": {},
     "output_type": "execute_result"
    }
   ],
   "source": [
    "from sklearn.ensemble import RandomForestClassifier\n",
    "forest = RandomForestClassifier(n_estimators=100, max_features=\"auto\",random_state=1)\n",
    "forest.fit(X_train, Y_train)\n",
    "rf_pred = forest.predict(X_test)\n",
    "accuracy_score(Y_test, rf_pred)\n"
   ]
  },
  {
   "cell_type": "code",
   "execution_count": 47,
   "metadata": {},
   "outputs": [],
   "source": [
    "# len(Y_train.unique())"
   ]
  },
  {
   "cell_type": "code",
   "execution_count": 48,
   "metadata": {},
   "outputs": [],
   "source": [
    "# classprob2 = forest.predict_proba(Xt_test)\n",
    "# arr = []\n",
    "# for i in range(len(Xt_test)):\n",
    "#     arr.append(classprob2[i].argsort()[-3:][::-1])\n",
    "# df_answer1 = pd.DataFrame()\n",
    "# df_answer1['pred'] = arr\n",
    "# dftestans1 = pd.DataFrame(df_answer1.pred.tolist(), columns=['major1', 'major2','major3'])\n",
    "# dftestans1 = dftestans1.replace(revert1.keys(),revert1.values())\n",
    "# dftestans1.describe()\n",
    "\n",
    "# len(classprob2[3])"
   ]
  },
  {
   "cell_type": "markdown",
   "metadata": {},
   "source": [
    "### Ababoost with max_depth 7 (FINAL ANSWER)"
   ]
  },
  {
   "cell_type": "code",
   "execution_count": 49,
   "metadata": {},
   "outputs": [
    {
     "data": {
      "text/plain": [
       "0.8074037018509255"
      ]
     },
     "execution_count": 49,
     "metadata": {},
     "output_type": "execute_result"
    }
   ],
   "source": [
    "from sklearn.datasets import make_gaussian_quantiles\n",
    "from sklearn.ensemble import AdaBoostClassifier\n",
    "from sklearn.metrics import accuracy_score\n",
    "from sklearn.tree import DecisionTreeClassifier\n",
    "\n",
    "bdt_real_depth = AdaBoostClassifier(DecisionTreeClassifier(random_state = 0,max_depth = 7),n_estimators=1000,learning_rate=0.5)\n",
    "bdt_real_depth.fit(X_train, Y_train)\n",
    "real_test_predict = bdt_real_depth.predict(X_test)\n",
    "accuracy_score(real_test_predict, Y_test)"
   ]
  },
  {
   "cell_type": "code",
   "execution_count": 50,
   "metadata": {},
   "outputs": [],
   "source": [
    "# classprob3 = bdt_real_depth.predict_proba(Xt_test)\n",
    "# arr = []\n",
    "# for i in range(len(Xt_test)):\n",
    "#     arr.append(classprob3[i].argsort()[-3:][::-1])\n",
    "# df_answer2 = pd.DataFrame()\n",
    "# df_answer2['pred'] = arr\n",
    "# dftestans2 = pd.DataFrame(df_answer2.pred.tolist(), columns=['major1', 'major2','major3'])\n",
    "# dftestans2 = dftestans2.replace(revert1.keys(),revert1.values())\n",
    "# dftestans2.describe()"
   ]
  },
  {
   "cell_type": "code",
   "execution_count": 51,
   "metadata": {},
   "outputs": [],
   "source": [
    "# clf = MLPClassifier(solver='lbfgs', alpha=1e-5,hidden_layer_sizes=(5, 2), random_state=1)\n",
    "\n",
    "# clf.fit(X, y)\n",
    "# classprob3[0]"
   ]
  },
  {
   "cell_type": "markdown",
   "metadata": {},
   "source": [
    "MLP CLassifier"
   ]
  },
  {
   "cell_type": "code",
   "execution_count": 52,
   "metadata": {},
   "outputs": [
    {
     "name": "stderr",
     "output_type": "stream",
     "text": [
      "C:\\Users\\Kartik\\Anaconda3\\lib\\site-packages\\sklearn\\preprocessing\\data.py:625: DataConversionWarning: Data with input dtype int8, int64, float64 were all converted to float64 by StandardScaler.\n",
      "  return self.partial_fit(X, y)\n",
      "C:\\Users\\Kartik\\Anaconda3\\lib\\site-packages\\ipykernel_launcher.py:5: DataConversionWarning: Data with input dtype int8, int64, float64 were all converted to float64 by StandardScaler.\n",
      "  \"\"\"\n",
      "C:\\Users\\Kartik\\Anaconda3\\lib\\site-packages\\ipykernel_launcher.py:7: DataConversionWarning: Data with input dtype int8, int64, float64 were all converted to float64 by StandardScaler.\n",
      "  import sys\n"
     ]
    }
   ],
   "source": [
    "from sklearn.preprocessing import StandardScaler  \n",
    "scaler = StandardScaler()  \n",
    "# Don't cheat - fit only on training data\n",
    "scaler.fit(X_train)  \n",
    "St_train = scaler.transform(X_train)  \n",
    "# apply same transformation to test data\n",
    "St_test = scaler.transform(X_test)  "
   ]
  },
  {
   "cell_type": "code",
   "execution_count": 53,
   "metadata": {},
   "outputs": [
    {
     "data": {
      "text/plain": [
       "0.7933966983491746"
      ]
     },
     "execution_count": 53,
     "metadata": {},
     "output_type": "execute_result"
    }
   ],
   "source": [
    "from sklearn.neural_network import MLPClassifier\n",
    "mlpnn = MLPClassifier(solver='lbfgs', alpha=1e-5,random_state=1)\n",
    "mlpnn.fit(St_train, Y_train)\n",
    "mlp_pred = mlpnn.predict(St_test)\n",
    "accuracy_score(mlp_pred, Y_test)"
   ]
  },
  {
   "cell_type": "markdown",
   "metadata": {},
   "source": [
    "### After evaluating all of these models, I am selecting Adaboost as the best model as it has highest validation accuracy and should perform best on unseen data."
   ]
  },
  {
   "cell_type": "markdown",
   "metadata": {},
   "source": [
    "### Loading the actual test dataset"
   ]
  },
  {
   "cell_type": "code",
   "execution_count": 54,
   "metadata": {},
   "outputs": [],
   "source": [
    "file2 = pd.read_csv('eval.psv', sep='|', header=0)\n",
    "test_df = file2.copy(deep = True)\n",
    "test_df = test_df.drop('major1',axis = 1)\n",
    "test_df = test_df.drop('major2',axis = 1)\n",
    "test_df = test_df.drop('major3',axis = 1)\n",
    "testFinal_df = test_df.copy(deep = True)\n",
    "test_df = test_df[~test_df.grade.str.contains('WX')]\n",
    "test_df = test_df[~test_df.grade.str.contains('R')]\n",
    "test_df['level'] = test_df['level'].map(levels)\n",
    "test_df['grade'] = test_df['grade'].map(grade)\n",
    "df2 = test_df['course'].str.split(\":\",expand = True)\n",
    "test_df['course'] = df2[0]\n",
    "test_course_df = test_df"
   ]
  },
  {
   "cell_type": "markdown",
   "metadata": {},
   "source": [
    "### Performing preprocessing on test data "
   ]
  },
  {
   "cell_type": "code",
   "execution_count": 55,
   "metadata": {},
   "outputs": [
    {
     "data": {
      "text/html": [
       "<div>\n",
       "<style scoped>\n",
       "    .dataframe tbody tr th:only-of-type {\n",
       "        vertical-align: middle;\n",
       "    }\n",
       "\n",
       "    .dataframe tbody tr th {\n",
       "        vertical-align: top;\n",
       "    }\n",
       "\n",
       "    .dataframe thead th {\n",
       "        text-align: right;\n",
       "    }\n",
       "</style>\n",
       "<table border=\"1\" class=\"dataframe\">\n",
       "  <thead>\n",
       "    <tr style=\"text-align: right;\">\n",
       "      <th></th>\n",
       "      <th>grade_sum</th>\n",
       "      <th>grade_mean</th>\n",
       "      <th>level</th>\n",
       "      <th>freq_fc</th>\n",
       "      <th>favcourse</th>\n",
       "    </tr>\n",
       "  </thead>\n",
       "  <tbody>\n",
       "    <tr>\n",
       "      <th>0</th>\n",
       "      <td>19</td>\n",
       "      <td>19.000000</td>\n",
       "      <td>1.000000</td>\n",
       "      <td>1</td>\n",
       "      <td>39</td>\n",
       "    </tr>\n",
       "    <tr>\n",
       "      <th>1</th>\n",
       "      <td>14</td>\n",
       "      <td>14.000000</td>\n",
       "      <td>1.000000</td>\n",
       "      <td>1</td>\n",
       "      <td>79</td>\n",
       "    </tr>\n",
       "    <tr>\n",
       "      <th>2</th>\n",
       "      <td>16</td>\n",
       "      <td>16.000000</td>\n",
       "      <td>2.000000</td>\n",
       "      <td>1</td>\n",
       "      <td>56</td>\n",
       "    </tr>\n",
       "    <tr>\n",
       "      <th>3</th>\n",
       "      <td>255</td>\n",
       "      <td>14.166667</td>\n",
       "      <td>2.333333</td>\n",
       "      <td>4</td>\n",
       "      <td>34</td>\n",
       "    </tr>\n",
       "    <tr>\n",
       "      <th>4</th>\n",
       "      <td>244</td>\n",
       "      <td>12.842105</td>\n",
       "      <td>1.736842</td>\n",
       "      <td>5</td>\n",
       "      <td>22</td>\n",
       "    </tr>\n",
       "  </tbody>\n",
       "</table>\n",
       "</div>"
      ],
      "text/plain": [
       "   grade_sum  grade_mean     level  freq_fc  favcourse\n",
       "0         19   19.000000  1.000000        1         39\n",
       "1         14   14.000000  1.000000        1         79\n",
       "2         16   16.000000  2.000000        1         56\n",
       "3        255   14.166667  2.333333        4         34\n",
       "4        244   12.842105  1.736842        5         22"
      ]
     },
     "execution_count": 55,
     "metadata": {},
     "output_type": "execute_result"
    }
   ],
   "source": [
    "test_df['major'] = 0\n",
    "test_df = test_df.groupby('student_id',as_index=False).agg(aggregations)\n",
    "file2.head()\n",
    "test_df.head()\n",
    "\n",
    "\n",
    "toptestdf = test_course_df.groupby('student_id',as_index=False).apply(get_top_course)\n",
    "toptestdf1 = test_course_df.groupby('student_id',as_index=False).apply(get_top_course_freq)\n",
    "\n",
    "\n",
    "# type(toptestdf.values)\n",
    "test_coloumns = ['favcourse']\n",
    "test_coloumns1 = ['freq_fc']\n",
    "\n",
    "dftestfav = pd.DataFrame(toptestdf,columns=test_coloumns)\n",
    "dftestfreq = pd.DataFrame(toptestdf1,columns=test_coloumns1)\n",
    "\n",
    "test_df['freq_fc'] = dftestfreq['freq_fc']\n",
    "test_df['favcourse'] = dftestfav['favcourse']\n",
    "test_df.columns = [f'{s}' if s != '' else f'{f}' \n",
    "              for f, s in test_df.columns]\n",
    "\n",
    "test_df.head()\n",
    "studentcopy = test_df['student_id']\n",
    "studentcopy.head()\n",
    "Xt_test = test_df.drop('major',axis = 1)\n",
    "Xt_test = Xt_test.drop('grade_count',axis = 1)\n",
    "Xt_test = Xt_test.drop('student_id',axis = 1)\n",
    "list(Xt_test)\n",
    "Xt_test['favcourse'] = Xt_test['favcourse'].astype('category').cat.codes\n",
    "Xt_test.head()"
   ]
  },
  {
   "cell_type": "markdown",
   "metadata": {},
   "source": [
    "## Predicting class probablities and final 3 majors on test data"
   ]
  },
  {
   "cell_type": "code",
   "execution_count": 56,
   "metadata": {},
   "outputs": [
    {
     "data": {
      "text/html": [
       "<div>\n",
       "<style scoped>\n",
       "    .dataframe tbody tr th:only-of-type {\n",
       "        vertical-align: middle;\n",
       "    }\n",
       "\n",
       "    .dataframe tbody tr th {\n",
       "        vertical-align: top;\n",
       "    }\n",
       "\n",
       "    .dataframe thead th {\n",
       "        text-align: right;\n",
       "    }\n",
       "</style>\n",
       "<table border=\"1\" class=\"dataframe\">\n",
       "  <thead>\n",
       "    <tr style=\"text-align: right;\">\n",
       "      <th></th>\n",
       "      <th>major1</th>\n",
       "      <th>major2</th>\n",
       "      <th>major3</th>\n",
       "      <th>student_id</th>\n",
       "    </tr>\n",
       "  </thead>\n",
       "  <tbody>\n",
       "    <tr>\n",
       "      <th>0</th>\n",
       "      <td>Health And Sport Sciences</td>\n",
       "      <td>Religion</td>\n",
       "      <td>Art</td>\n",
       "      <td>01BVNwmXUXsoVHLd</td>\n",
       "    </tr>\n",
       "    <tr>\n",
       "      <th>1</th>\n",
       "      <td>Radiation Sciences</td>\n",
       "      <td>Communication Studies</td>\n",
       "      <td>Asian Studies</td>\n",
       "      <td>03TWkCsakXIVrOtA</td>\n",
       "    </tr>\n",
       "    <tr>\n",
       "      <th>2</th>\n",
       "      <td>Human Physiology</td>\n",
       "      <td>Geography</td>\n",
       "      <td>Chiropractic</td>\n",
       "      <td>067YeH4Acv00Bdvf</td>\n",
       "    </tr>\n",
       "    <tr>\n",
       "      <th>3</th>\n",
       "      <td>Economics</td>\n",
       "      <td>Informatics</td>\n",
       "      <td>Dance</td>\n",
       "      <td>06TWQIIh4SaEAnOu</td>\n",
       "    </tr>\n",
       "    <tr>\n",
       "      <th>4</th>\n",
       "      <td>Chemistry</td>\n",
       "      <td>Biochemistry</td>\n",
       "      <td>Biology</td>\n",
       "      <td>08dMDGiuTXbojMV0</td>\n",
       "    </tr>\n",
       "  </tbody>\n",
       "</table>\n",
       "</div>"
      ],
      "text/plain": [
       "                      major1                 major2         major3  \\\n",
       "0  Health And Sport Sciences               Religion            Art   \n",
       "1         Radiation Sciences  Communication Studies  Asian Studies   \n",
       "2           Human Physiology              Geography   Chiropractic   \n",
       "3                  Economics            Informatics          Dance   \n",
       "4                  Chemistry           Biochemistry        Biology   \n",
       "\n",
       "         student_id  \n",
       "0  01BVNwmXUXsoVHLd  \n",
       "1  03TWkCsakXIVrOtA  \n",
       "2  067YeH4Acv00Bdvf  \n",
       "3  06TWQIIh4SaEAnOu  \n",
       "4  08dMDGiuTXbojMV0  "
      ]
     },
     "execution_count": 56,
     "metadata": {},
     "output_type": "execute_result"
    }
   ],
   "source": [
    "classprob1 = bdt_real.predict_proba(Xt_test)\n",
    "arr = []\n",
    "for i in range(len(Xt_test)):\n",
    "    arr.append(classprob1[i].argsort()[-3:][::-1])\n",
    "df_answer = pd.DataFrame()\n",
    "df_answer['pred'] = arr\n",
    "dftestans = pd.DataFrame(df_answer.pred.tolist(), columns=['major1', 'major2','major3'])\n",
    "dftestans = dftestans.replace(revert1.keys(),revert1.values())\n",
    "dftestans.describe()\n",
    "dftestans['student_id'] = studentcopy\n",
    "dftestans.head()"
   ]
  },
  {
   "cell_type": "markdown",
   "metadata": {},
   "source": [
    "### Merging and writing the output to final eval.psv file"
   ]
  },
  {
   "cell_type": "code",
   "execution_count": 57,
   "metadata": {},
   "outputs": [
    {
     "data": {
      "text/html": [
       "<div>\n",
       "<style scoped>\n",
       "    .dataframe tbody tr th:only-of-type {\n",
       "        vertical-align: middle;\n",
       "    }\n",
       "\n",
       "    .dataframe tbody tr th {\n",
       "        vertical-align: top;\n",
       "    }\n",
       "\n",
       "    .dataframe thead th {\n",
       "        text-align: right;\n",
       "    }\n",
       "</style>\n",
       "<table border=\"1\" class=\"dataframe\">\n",
       "  <thead>\n",
       "    <tr style=\"text-align: right;\">\n",
       "      <th></th>\n",
       "      <th>student_id</th>\n",
       "      <th>level</th>\n",
       "      <th>course</th>\n",
       "      <th>grade</th>\n",
       "      <th>major1</th>\n",
       "      <th>major2</th>\n",
       "      <th>major3</th>\n",
       "    </tr>\n",
       "  </thead>\n",
       "  <tbody>\n",
       "    <tr>\n",
       "      <th>0</th>\n",
       "      <td>6Q79FVMSbTPMBhha</td>\n",
       "      <td>Senior</td>\n",
       "      <td>ECE:489</td>\n",
       "      <td>A</td>\n",
       "      <td>Cinema</td>\n",
       "      <td>Biology</td>\n",
       "      <td>Russian</td>\n",
       "    </tr>\n",
       "    <tr>\n",
       "      <th>1</th>\n",
       "      <td>6Q79FVMSbTPMBhha</td>\n",
       "      <td>Sophomore</td>\n",
       "      <td>MATH:246</td>\n",
       "      <td>B</td>\n",
       "      <td>Cinema</td>\n",
       "      <td>Biology</td>\n",
       "      <td>Russian</td>\n",
       "    </tr>\n",
       "    <tr>\n",
       "      <th>2</th>\n",
       "      <td>6Q79FVMSbTPMBhha</td>\n",
       "      <td>Sophomore</td>\n",
       "      <td>ECE:344</td>\n",
       "      <td>C+</td>\n",
       "      <td>Cinema</td>\n",
       "      <td>Biology</td>\n",
       "      <td>Russian</td>\n",
       "    </tr>\n",
       "    <tr>\n",
       "      <th>3</th>\n",
       "      <td>6Q79FVMSbTPMBhha</td>\n",
       "      <td>Junior</td>\n",
       "      <td>ARTS:280</td>\n",
       "      <td>B</td>\n",
       "      <td>Cinema</td>\n",
       "      <td>Biology</td>\n",
       "      <td>Russian</td>\n",
       "    </tr>\n",
       "    <tr>\n",
       "      <th>4</th>\n",
       "      <td>6Q79FVMSbTPMBhha</td>\n",
       "      <td>Freshman</td>\n",
       "      <td>CSI:160</td>\n",
       "      <td>AUS</td>\n",
       "      <td>Cinema</td>\n",
       "      <td>Biology</td>\n",
       "      <td>Russian</td>\n",
       "    </tr>\n",
       "    <tr>\n",
       "      <th>5</th>\n",
       "      <td>6Q79FVMSbTPMBhha</td>\n",
       "      <td>Junior</td>\n",
       "      <td>ECE:336</td>\n",
       "      <td>A-</td>\n",
       "      <td>Cinema</td>\n",
       "      <td>Biology</td>\n",
       "      <td>Russian</td>\n",
       "    </tr>\n",
       "    <tr>\n",
       "      <th>6</th>\n",
       "      <td>6Q79FVMSbTPMBhha</td>\n",
       "      <td>Junior</td>\n",
       "      <td>ECE:332</td>\n",
       "      <td>B+</td>\n",
       "      <td>Cinema</td>\n",
       "      <td>Biology</td>\n",
       "      <td>Russian</td>\n",
       "    </tr>\n",
       "    <tr>\n",
       "      <th>7</th>\n",
       "      <td>6Q79FVMSbTPMBhha</td>\n",
       "      <td>Senior</td>\n",
       "      <td>CS:370</td>\n",
       "      <td>A-</td>\n",
       "      <td>Cinema</td>\n",
       "      <td>Biology</td>\n",
       "      <td>Russian</td>\n",
       "    </tr>\n",
       "    <tr>\n",
       "      <th>8</th>\n",
       "      <td>6Q79FVMSbTPMBhha</td>\n",
       "      <td>Sophomore</td>\n",
       "      <td>LS:101</td>\n",
       "      <td>S</td>\n",
       "      <td>Cinema</td>\n",
       "      <td>Biology</td>\n",
       "      <td>Russian</td>\n",
       "    </tr>\n",
       "    <tr>\n",
       "      <th>9</th>\n",
       "      <td>6Q79FVMSbTPMBhha</td>\n",
       "      <td>Freshman</td>\n",
       "      <td>ARTH:106</td>\n",
       "      <td>B-</td>\n",
       "      <td>Cinema</td>\n",
       "      <td>Biology</td>\n",
       "      <td>Russian</td>\n",
       "    </tr>\n",
       "    <tr>\n",
       "      <th>10</th>\n",
       "      <td>6Q79FVMSbTPMBhha</td>\n",
       "      <td>Sophomore</td>\n",
       "      <td>ECE:300</td>\n",
       "      <td>S</td>\n",
       "      <td>Cinema</td>\n",
       "      <td>Biology</td>\n",
       "      <td>Russian</td>\n",
       "    </tr>\n",
       "    <tr>\n",
       "      <th>11</th>\n",
       "      <td>6Q79FVMSbTPMBhha</td>\n",
       "      <td>Sophomore</td>\n",
       "      <td>ECE:240</td>\n",
       "      <td>A-</td>\n",
       "      <td>Cinema</td>\n",
       "      <td>Biology</td>\n",
       "      <td>Russian</td>\n",
       "    </tr>\n",
       "    <tr>\n",
       "      <th>12</th>\n",
       "      <td>6Q79FVMSbTPMBhha</td>\n",
       "      <td>Sophomore</td>\n",
       "      <td>PHYS:161</td>\n",
       "      <td>C-</td>\n",
       "      <td>Cinema</td>\n",
       "      <td>Biology</td>\n",
       "      <td>Russian</td>\n",
       "    </tr>\n",
       "    <tr>\n",
       "      <th>13</th>\n",
       "      <td>6Q79FVMSbTPMBhha</td>\n",
       "      <td>Freshman</td>\n",
       "      <td>ENGR:110</td>\n",
       "      <td>A-</td>\n",
       "      <td>Cinema</td>\n",
       "      <td>Biology</td>\n",
       "      <td>Russian</td>\n",
       "    </tr>\n",
       "    <tr>\n",
       "      <th>14</th>\n",
       "      <td>6Q79FVMSbTPMBhha</td>\n",
       "      <td>Sophomore</td>\n",
       "      <td>ENGR:213</td>\n",
       "      <td>B</td>\n",
       "      <td>Cinema</td>\n",
       "      <td>Biology</td>\n",
       "      <td>Russian</td>\n",
       "    </tr>\n",
       "    <tr>\n",
       "      <th>15</th>\n",
       "      <td>6Q79FVMSbTPMBhha</td>\n",
       "      <td>Junior</td>\n",
       "      <td>ECE:333</td>\n",
       "      <td>B</td>\n",
       "      <td>Cinema</td>\n",
       "      <td>Biology</td>\n",
       "      <td>Russian</td>\n",
       "    </tr>\n",
       "    <tr>\n",
       "      <th>16</th>\n",
       "      <td>6Q79FVMSbTPMBhha</td>\n",
       "      <td>Freshman</td>\n",
       "      <td>ENGR:211</td>\n",
       "      <td>B-</td>\n",
       "      <td>Cinema</td>\n",
       "      <td>Biology</td>\n",
       "      <td>Russian</td>\n",
       "    </tr>\n",
       "    <tr>\n",
       "      <th>17</th>\n",
       "      <td>6Q79FVMSbTPMBhha</td>\n",
       "      <td>Freshman</td>\n",
       "      <td>RHET:100</td>\n",
       "      <td>D</td>\n",
       "      <td>Cinema</td>\n",
       "      <td>Biology</td>\n",
       "      <td>Russian</td>\n",
       "    </tr>\n",
       "    <tr>\n",
       "      <th>18</th>\n",
       "      <td>6Q79FVMSbTPMBhha</td>\n",
       "      <td>Sophomore</td>\n",
       "      <td>ECON:110</td>\n",
       "      <td>B</td>\n",
       "      <td>Cinema</td>\n",
       "      <td>Biology</td>\n",
       "      <td>Russian</td>\n",
       "    </tr>\n",
       "    <tr>\n",
       "      <th>19</th>\n",
       "      <td>6Q79FVMSbTPMBhha</td>\n",
       "      <td>Sophomore</td>\n",
       "      <td>MATH:344</td>\n",
       "      <td>A</td>\n",
       "      <td>Cinema</td>\n",
       "      <td>Biology</td>\n",
       "      <td>Russian</td>\n",
       "    </tr>\n",
       "    <tr>\n",
       "      <th>20</th>\n",
       "      <td>6Q79FVMSbTPMBhha</td>\n",
       "      <td>Sophomore</td>\n",
       "      <td>STAT:202</td>\n",
       "      <td>A</td>\n",
       "      <td>Cinema</td>\n",
       "      <td>Biology</td>\n",
       "      <td>Russian</td>\n",
       "    </tr>\n",
       "    <tr>\n",
       "      <th>21</th>\n",
       "      <td>6Q79FVMSbTPMBhha</td>\n",
       "      <td>Junior</td>\n",
       "      <td>CLSA:374</td>\n",
       "      <td>B</td>\n",
       "      <td>Cinema</td>\n",
       "      <td>Biology</td>\n",
       "      <td>Russian</td>\n",
       "    </tr>\n",
       "    <tr>\n",
       "      <th>22</th>\n",
       "      <td>DnQeKAXuZfA9QpOp</td>\n",
       "      <td>Sophomore</td>\n",
       "      <td>WRIT:160</td>\n",
       "      <td>C+</td>\n",
       "      <td>Radiation Sciences</td>\n",
       "      <td>Communication Studies</td>\n",
       "      <td>Asian Studies</td>\n",
       "    </tr>\n",
       "    <tr>\n",
       "      <th>23</th>\n",
       "      <td>d9Q63MrznryDjPRl</td>\n",
       "      <td>Senior</td>\n",
       "      <td>POLI:310</td>\n",
       "      <td>A-</td>\n",
       "      <td>Human Physiology</td>\n",
       "      <td>History</td>\n",
       "      <td>Finance</td>\n",
       "    </tr>\n",
       "    <tr>\n",
       "      <th>24</th>\n",
       "      <td>E4Jk7yBFFHbZ1vlM</td>\n",
       "      <td>Senior</td>\n",
       "      <td>POLI:310</td>\n",
       "      <td>A</td>\n",
       "      <td>Human Physiology</td>\n",
       "      <td>Occupational Therapy</td>\n",
       "      <td>History</td>\n",
       "    </tr>\n",
       "    <tr>\n",
       "      <th>25</th>\n",
       "      <td>dT370YtBHT3ZVQg8</td>\n",
       "      <td>Senior</td>\n",
       "      <td>MATH:138</td>\n",
       "      <td>D</td>\n",
       "      <td>Industrial Engineering</td>\n",
       "      <td>Art</td>\n",
       "      <td>Management</td>\n",
       "    </tr>\n",
       "    <tr>\n",
       "      <th>26</th>\n",
       "      <td>dT370YtBHT3ZVQg8</td>\n",
       "      <td>Freshman</td>\n",
       "      <td>POLI:120</td>\n",
       "      <td>B</td>\n",
       "      <td>Industrial Engineering</td>\n",
       "      <td>Art</td>\n",
       "      <td>Management</td>\n",
       "    </tr>\n",
       "    <tr>\n",
       "      <th>27</th>\n",
       "      <td>dT370YtBHT3ZVQg8</td>\n",
       "      <td>Freshman</td>\n",
       "      <td>CSI:110</td>\n",
       "      <td>S</td>\n",
       "      <td>Industrial Engineering</td>\n",
       "      <td>Art</td>\n",
       "      <td>Management</td>\n",
       "    </tr>\n",
       "    <tr>\n",
       "      <th>28</th>\n",
       "      <td>dT370YtBHT3ZVQg8</td>\n",
       "      <td>Freshman</td>\n",
       "      <td>RHET:106</td>\n",
       "      <td>A-</td>\n",
       "      <td>Industrial Engineering</td>\n",
       "      <td>Art</td>\n",
       "      <td>Management</td>\n",
       "    </tr>\n",
       "    <tr>\n",
       "      <th>29</th>\n",
       "      <td>dT370YtBHT3ZVQg8</td>\n",
       "      <td>Sophomore</td>\n",
       "      <td>PSY:260</td>\n",
       "      <td>B</td>\n",
       "      <td>Industrial Engineering</td>\n",
       "      <td>Art</td>\n",
       "      <td>Management</td>\n",
       "    </tr>\n",
       "    <tr>\n",
       "      <th>...</th>\n",
       "      <td>...</td>\n",
       "      <td>...</td>\n",
       "      <td>...</td>\n",
       "      <td>...</td>\n",
       "      <td>...</td>\n",
       "      <td>...</td>\n",
       "      <td>...</td>\n",
       "    </tr>\n",
       "    <tr>\n",
       "      <th>19405</th>\n",
       "      <td>QYRKRRjb1T0fnRkw</td>\n",
       "      <td>Senior</td>\n",
       "      <td>IE:490</td>\n",
       "      <td>A+</td>\n",
       "      <td>Electrical Engineering</td>\n",
       "      <td>Industrial Engineering</td>\n",
       "      <td>Chemical Engineering</td>\n",
       "    </tr>\n",
       "    <tr>\n",
       "      <th>19406</th>\n",
       "      <td>QYRKRRjb1T0fnRkw</td>\n",
       "      <td>Sophomore</td>\n",
       "      <td>ENGR:272</td>\n",
       "      <td>B-</td>\n",
       "      <td>Electrical Engineering</td>\n",
       "      <td>Industrial Engineering</td>\n",
       "      <td>Chemical Engineering</td>\n",
       "    </tr>\n",
       "    <tr>\n",
       "      <th>19407</th>\n",
       "      <td>QYRKRRjb1T0fnRkw</td>\n",
       "      <td>Freshman</td>\n",
       "      <td>FYP:110</td>\n",
       "      <td>S</td>\n",
       "      <td>Electrical Engineering</td>\n",
       "      <td>Industrial Engineering</td>\n",
       "      <td>Chemical Engineering</td>\n",
       "    </tr>\n",
       "    <tr>\n",
       "      <th>19408</th>\n",
       "      <td>QYRKRRjb1T0fnRkw</td>\n",
       "      <td>Junior</td>\n",
       "      <td>LEIS:314</td>\n",
       "      <td>A</td>\n",
       "      <td>Electrical Engineering</td>\n",
       "      <td>Industrial Engineering</td>\n",
       "      <td>Chemical Engineering</td>\n",
       "    </tr>\n",
       "    <tr>\n",
       "      <th>19409</th>\n",
       "      <td>QYRKRRjb1T0fnRkw</td>\n",
       "      <td>Sophomore</td>\n",
       "      <td>IE:240</td>\n",
       "      <td>A+</td>\n",
       "      <td>Electrical Engineering</td>\n",
       "      <td>Industrial Engineering</td>\n",
       "      <td>Chemical Engineering</td>\n",
       "    </tr>\n",
       "    <tr>\n",
       "      <th>19410</th>\n",
       "      <td>QYRKRRjb1T0fnRkw</td>\n",
       "      <td>Senior</td>\n",
       "      <td>ECON:120</td>\n",
       "      <td>A+</td>\n",
       "      <td>Electrical Engineering</td>\n",
       "      <td>Industrial Engineering</td>\n",
       "      <td>Chemical Engineering</td>\n",
       "    </tr>\n",
       "    <tr>\n",
       "      <th>19411</th>\n",
       "      <td>QYRKRRjb1T0fnRkw</td>\n",
       "      <td>Junior</td>\n",
       "      <td>IE:376</td>\n",
       "      <td>B+</td>\n",
       "      <td>Electrical Engineering</td>\n",
       "      <td>Industrial Engineering</td>\n",
       "      <td>Chemical Engineering</td>\n",
       "    </tr>\n",
       "    <tr>\n",
       "      <th>19412</th>\n",
       "      <td>QYRKRRjb1T0fnRkw</td>\n",
       "      <td>Sophomore</td>\n",
       "      <td>IE:200</td>\n",
       "      <td>S</td>\n",
       "      <td>Electrical Engineering</td>\n",
       "      <td>Industrial Engineering</td>\n",
       "      <td>Chemical Engineering</td>\n",
       "    </tr>\n",
       "    <tr>\n",
       "      <th>19413</th>\n",
       "      <td>HqVIbkuppizqGINe</td>\n",
       "      <td>Junior</td>\n",
       "      <td>POLI:100</td>\n",
       "      <td>R</td>\n",
       "      <td>Industrial Engineering</td>\n",
       "      <td>History</td>\n",
       "      <td>Laboratory Sciences</td>\n",
       "    </tr>\n",
       "    <tr>\n",
       "      <th>19414</th>\n",
       "      <td>HqVIbkuppizqGINe</td>\n",
       "      <td>Junior</td>\n",
       "      <td>POLI:140</td>\n",
       "      <td>B</td>\n",
       "      <td>Industrial Engineering</td>\n",
       "      <td>History</td>\n",
       "      <td>Laboratory Sciences</td>\n",
       "    </tr>\n",
       "    <tr>\n",
       "      <th>19415</th>\n",
       "      <td>HqVIbkuppizqGINe</td>\n",
       "      <td>Senior</td>\n",
       "      <td>ECON:110</td>\n",
       "      <td>B</td>\n",
       "      <td>Industrial Engineering</td>\n",
       "      <td>History</td>\n",
       "      <td>Laboratory Sciences</td>\n",
       "    </tr>\n",
       "    <tr>\n",
       "      <th>19416</th>\n",
       "      <td>HqVIbkuppizqGINe</td>\n",
       "      <td>Freshman</td>\n",
       "      <td>POLI:110</td>\n",
       "      <td>B</td>\n",
       "      <td>Industrial Engineering</td>\n",
       "      <td>History</td>\n",
       "      <td>Laboratory Sciences</td>\n",
       "    </tr>\n",
       "    <tr>\n",
       "      <th>19417</th>\n",
       "      <td>HqVIbkuppizqGINe</td>\n",
       "      <td>Junior</td>\n",
       "      <td>ASTR:107</td>\n",
       "      <td>B+</td>\n",
       "      <td>Industrial Engineering</td>\n",
       "      <td>History</td>\n",
       "      <td>Laboratory Sciences</td>\n",
       "    </tr>\n",
       "    <tr>\n",
       "      <th>19418</th>\n",
       "      <td>HqVIbkuppizqGINe</td>\n",
       "      <td>Senior</td>\n",
       "      <td>POLI:344</td>\n",
       "      <td>C</td>\n",
       "      <td>Industrial Engineering</td>\n",
       "      <td>History</td>\n",
       "      <td>Laboratory Sciences</td>\n",
       "    </tr>\n",
       "    <tr>\n",
       "      <th>19419</th>\n",
       "      <td>HqVIbkuppizqGINe</td>\n",
       "      <td>Freshman</td>\n",
       "      <td>POLI:160</td>\n",
       "      <td>A</td>\n",
       "      <td>Industrial Engineering</td>\n",
       "      <td>History</td>\n",
       "      <td>Laboratory Sciences</td>\n",
       "    </tr>\n",
       "    <tr>\n",
       "      <th>19420</th>\n",
       "      <td>HqVIbkuppizqGINe</td>\n",
       "      <td>Junior</td>\n",
       "      <td>POLI:170</td>\n",
       "      <td>B</td>\n",
       "      <td>Industrial Engineering</td>\n",
       "      <td>History</td>\n",
       "      <td>Laboratory Sciences</td>\n",
       "    </tr>\n",
       "    <tr>\n",
       "      <th>19421</th>\n",
       "      <td>HqVIbkuppizqGINe</td>\n",
       "      <td>Senior</td>\n",
       "      <td>LLS:107</td>\n",
       "      <td>S</td>\n",
       "      <td>Industrial Engineering</td>\n",
       "      <td>History</td>\n",
       "      <td>Laboratory Sciences</td>\n",
       "    </tr>\n",
       "    <tr>\n",
       "      <th>19422</th>\n",
       "      <td>HqVIbkuppizqGINe</td>\n",
       "      <td>Senior</td>\n",
       "      <td>EES:103</td>\n",
       "      <td>A</td>\n",
       "      <td>Industrial Engineering</td>\n",
       "      <td>History</td>\n",
       "      <td>Laboratory Sciences</td>\n",
       "    </tr>\n",
       "    <tr>\n",
       "      <th>19423</th>\n",
       "      <td>HqVIbkuppizqGINe</td>\n",
       "      <td>Sophomore</td>\n",
       "      <td>PHIL:206</td>\n",
       "      <td>A+</td>\n",
       "      <td>Industrial Engineering</td>\n",
       "      <td>History</td>\n",
       "      <td>Laboratory Sciences</td>\n",
       "    </tr>\n",
       "    <tr>\n",
       "      <th>19424</th>\n",
       "      <td>HqVIbkuppizqGINe</td>\n",
       "      <td>Sophomore</td>\n",
       "      <td>CW:287</td>\n",
       "      <td>B+</td>\n",
       "      <td>Industrial Engineering</td>\n",
       "      <td>History</td>\n",
       "      <td>Laboratory Sciences</td>\n",
       "    </tr>\n",
       "    <tr>\n",
       "      <th>19425</th>\n",
       "      <td>HqVIbkuppizqGINe</td>\n",
       "      <td>Senior</td>\n",
       "      <td>PSQF:102</td>\n",
       "      <td>B+</td>\n",
       "      <td>Industrial Engineering</td>\n",
       "      <td>History</td>\n",
       "      <td>Laboratory Sciences</td>\n",
       "    </tr>\n",
       "    <tr>\n",
       "      <th>19426</th>\n",
       "      <td>HqVIbkuppizqGINe</td>\n",
       "      <td>Junior</td>\n",
       "      <td>PHIL:103</td>\n",
       "      <td>C+</td>\n",
       "      <td>Industrial Engineering</td>\n",
       "      <td>History</td>\n",
       "      <td>Laboratory Sciences</td>\n",
       "    </tr>\n",
       "    <tr>\n",
       "      <th>19427</th>\n",
       "      <td>HqVIbkuppizqGINe</td>\n",
       "      <td>Sophomore</td>\n",
       "      <td>COMM:130</td>\n",
       "      <td>A</td>\n",
       "      <td>Industrial Engineering</td>\n",
       "      <td>History</td>\n",
       "      <td>Laboratory Sciences</td>\n",
       "    </tr>\n",
       "    <tr>\n",
       "      <th>19428</th>\n",
       "      <td>HqVIbkuppizqGINe</td>\n",
       "      <td>Freshman</td>\n",
       "      <td>STAT:101</td>\n",
       "      <td>D</td>\n",
       "      <td>Industrial Engineering</td>\n",
       "      <td>History</td>\n",
       "      <td>Laboratory Sciences</td>\n",
       "    </tr>\n",
       "    <tr>\n",
       "      <th>19429</th>\n",
       "      <td>HqVIbkuppizqGINe</td>\n",
       "      <td>Senior</td>\n",
       "      <td>CSI:180</td>\n",
       "      <td>S</td>\n",
       "      <td>Industrial Engineering</td>\n",
       "      <td>History</td>\n",
       "      <td>Laboratory Sciences</td>\n",
       "    </tr>\n",
       "    <tr>\n",
       "      <th>19430</th>\n",
       "      <td>HqVIbkuppizqGINe</td>\n",
       "      <td>Sophomore</td>\n",
       "      <td>GWSS:100</td>\n",
       "      <td>A-</td>\n",
       "      <td>Industrial Engineering</td>\n",
       "      <td>History</td>\n",
       "      <td>Laboratory Sciences</td>\n",
       "    </tr>\n",
       "    <tr>\n",
       "      <th>19431</th>\n",
       "      <td>HqVIbkuppizqGINe</td>\n",
       "      <td>Freshman</td>\n",
       "      <td>RHET:103</td>\n",
       "      <td>A-</td>\n",
       "      <td>Industrial Engineering</td>\n",
       "      <td>History</td>\n",
       "      <td>Laboratory Sciences</td>\n",
       "    </tr>\n",
       "    <tr>\n",
       "      <th>19432</th>\n",
       "      <td>HqVIbkuppizqGINe</td>\n",
       "      <td>Senior</td>\n",
       "      <td>IAP:102</td>\n",
       "      <td>S</td>\n",
       "      <td>Industrial Engineering</td>\n",
       "      <td>History</td>\n",
       "      <td>Laboratory Sciences</td>\n",
       "    </tr>\n",
       "    <tr>\n",
       "      <th>19433</th>\n",
       "      <td>HqVIbkuppizqGINe</td>\n",
       "      <td>Senior</td>\n",
       "      <td>PSY:240</td>\n",
       "      <td>A-</td>\n",
       "      <td>Industrial Engineering</td>\n",
       "      <td>History</td>\n",
       "      <td>Laboratory Sciences</td>\n",
       "    </tr>\n",
       "    <tr>\n",
       "      <th>19434</th>\n",
       "      <td>HqVIbkuppizqGINe</td>\n",
       "      <td>Freshman</td>\n",
       "      <td>EES:108</td>\n",
       "      <td>B-</td>\n",
       "      <td>Industrial Engineering</td>\n",
       "      <td>History</td>\n",
       "      <td>Laboratory Sciences</td>\n",
       "    </tr>\n",
       "  </tbody>\n",
       "</table>\n",
       "<p>19435 rows × 7 columns</p>\n",
       "</div>"
      ],
      "text/plain": [
       "             student_id      level    course grade                  major1  \\\n",
       "0      6Q79FVMSbTPMBhha     Senior   ECE:489     A                  Cinema   \n",
       "1      6Q79FVMSbTPMBhha  Sophomore  MATH:246     B                  Cinema   \n",
       "2      6Q79FVMSbTPMBhha  Sophomore   ECE:344    C+                  Cinema   \n",
       "3      6Q79FVMSbTPMBhha     Junior  ARTS:280     B                  Cinema   \n",
       "4      6Q79FVMSbTPMBhha   Freshman   CSI:160   AUS                  Cinema   \n",
       "5      6Q79FVMSbTPMBhha     Junior   ECE:336    A-                  Cinema   \n",
       "6      6Q79FVMSbTPMBhha     Junior   ECE:332    B+                  Cinema   \n",
       "7      6Q79FVMSbTPMBhha     Senior    CS:370    A-                  Cinema   \n",
       "8      6Q79FVMSbTPMBhha  Sophomore    LS:101     S                  Cinema   \n",
       "9      6Q79FVMSbTPMBhha   Freshman  ARTH:106    B-                  Cinema   \n",
       "10     6Q79FVMSbTPMBhha  Sophomore   ECE:300     S                  Cinema   \n",
       "11     6Q79FVMSbTPMBhha  Sophomore   ECE:240    A-                  Cinema   \n",
       "12     6Q79FVMSbTPMBhha  Sophomore  PHYS:161    C-                  Cinema   \n",
       "13     6Q79FVMSbTPMBhha   Freshman  ENGR:110    A-                  Cinema   \n",
       "14     6Q79FVMSbTPMBhha  Sophomore  ENGR:213     B                  Cinema   \n",
       "15     6Q79FVMSbTPMBhha     Junior   ECE:333     B                  Cinema   \n",
       "16     6Q79FVMSbTPMBhha   Freshman  ENGR:211    B-                  Cinema   \n",
       "17     6Q79FVMSbTPMBhha   Freshman  RHET:100     D                  Cinema   \n",
       "18     6Q79FVMSbTPMBhha  Sophomore  ECON:110     B                  Cinema   \n",
       "19     6Q79FVMSbTPMBhha  Sophomore  MATH:344     A                  Cinema   \n",
       "20     6Q79FVMSbTPMBhha  Sophomore  STAT:202     A                  Cinema   \n",
       "21     6Q79FVMSbTPMBhha     Junior  CLSA:374     B                  Cinema   \n",
       "22     DnQeKAXuZfA9QpOp  Sophomore  WRIT:160    C+      Radiation Sciences   \n",
       "23     d9Q63MrznryDjPRl     Senior  POLI:310    A-        Human Physiology   \n",
       "24     E4Jk7yBFFHbZ1vlM     Senior  POLI:310     A        Human Physiology   \n",
       "25     dT370YtBHT3ZVQg8     Senior  MATH:138     D  Industrial Engineering   \n",
       "26     dT370YtBHT3ZVQg8   Freshman  POLI:120     B  Industrial Engineering   \n",
       "27     dT370YtBHT3ZVQg8   Freshman   CSI:110     S  Industrial Engineering   \n",
       "28     dT370YtBHT3ZVQg8   Freshman  RHET:106    A-  Industrial Engineering   \n",
       "29     dT370YtBHT3ZVQg8  Sophomore   PSY:260     B  Industrial Engineering   \n",
       "...                 ...        ...       ...   ...                     ...   \n",
       "19405  QYRKRRjb1T0fnRkw     Senior    IE:490    A+  Electrical Engineering   \n",
       "19406  QYRKRRjb1T0fnRkw  Sophomore  ENGR:272    B-  Electrical Engineering   \n",
       "19407  QYRKRRjb1T0fnRkw   Freshman   FYP:110     S  Electrical Engineering   \n",
       "19408  QYRKRRjb1T0fnRkw     Junior  LEIS:314     A  Electrical Engineering   \n",
       "19409  QYRKRRjb1T0fnRkw  Sophomore    IE:240    A+  Electrical Engineering   \n",
       "19410  QYRKRRjb1T0fnRkw     Senior  ECON:120    A+  Electrical Engineering   \n",
       "19411  QYRKRRjb1T0fnRkw     Junior    IE:376    B+  Electrical Engineering   \n",
       "19412  QYRKRRjb1T0fnRkw  Sophomore    IE:200     S  Electrical Engineering   \n",
       "19413  HqVIbkuppizqGINe     Junior  POLI:100     R  Industrial Engineering   \n",
       "19414  HqVIbkuppizqGINe     Junior  POLI:140     B  Industrial Engineering   \n",
       "19415  HqVIbkuppizqGINe     Senior  ECON:110     B  Industrial Engineering   \n",
       "19416  HqVIbkuppizqGINe   Freshman  POLI:110     B  Industrial Engineering   \n",
       "19417  HqVIbkuppizqGINe     Junior  ASTR:107    B+  Industrial Engineering   \n",
       "19418  HqVIbkuppizqGINe     Senior  POLI:344     C  Industrial Engineering   \n",
       "19419  HqVIbkuppizqGINe   Freshman  POLI:160     A  Industrial Engineering   \n",
       "19420  HqVIbkuppizqGINe     Junior  POLI:170     B  Industrial Engineering   \n",
       "19421  HqVIbkuppizqGINe     Senior   LLS:107     S  Industrial Engineering   \n",
       "19422  HqVIbkuppizqGINe     Senior   EES:103     A  Industrial Engineering   \n",
       "19423  HqVIbkuppizqGINe  Sophomore  PHIL:206    A+  Industrial Engineering   \n",
       "19424  HqVIbkuppizqGINe  Sophomore    CW:287    B+  Industrial Engineering   \n",
       "19425  HqVIbkuppizqGINe     Senior  PSQF:102    B+  Industrial Engineering   \n",
       "19426  HqVIbkuppizqGINe     Junior  PHIL:103    C+  Industrial Engineering   \n",
       "19427  HqVIbkuppizqGINe  Sophomore  COMM:130     A  Industrial Engineering   \n",
       "19428  HqVIbkuppizqGINe   Freshman  STAT:101     D  Industrial Engineering   \n",
       "19429  HqVIbkuppizqGINe     Senior   CSI:180     S  Industrial Engineering   \n",
       "19430  HqVIbkuppizqGINe  Sophomore  GWSS:100    A-  Industrial Engineering   \n",
       "19431  HqVIbkuppizqGINe   Freshman  RHET:103    A-  Industrial Engineering   \n",
       "19432  HqVIbkuppizqGINe     Senior   IAP:102     S  Industrial Engineering   \n",
       "19433  HqVIbkuppizqGINe     Senior   PSY:240    A-  Industrial Engineering   \n",
       "19434  HqVIbkuppizqGINe   Freshman   EES:108    B-  Industrial Engineering   \n",
       "\n",
       "                       major2                major3  \n",
       "0                     Biology               Russian  \n",
       "1                     Biology               Russian  \n",
       "2                     Biology               Russian  \n",
       "3                     Biology               Russian  \n",
       "4                     Biology               Russian  \n",
       "5                     Biology               Russian  \n",
       "6                     Biology               Russian  \n",
       "7                     Biology               Russian  \n",
       "8                     Biology               Russian  \n",
       "9                     Biology               Russian  \n",
       "10                    Biology               Russian  \n",
       "11                    Biology               Russian  \n",
       "12                    Biology               Russian  \n",
       "13                    Biology               Russian  \n",
       "14                    Biology               Russian  \n",
       "15                    Biology               Russian  \n",
       "16                    Biology               Russian  \n",
       "17                    Biology               Russian  \n",
       "18                    Biology               Russian  \n",
       "19                    Biology               Russian  \n",
       "20                    Biology               Russian  \n",
       "21                    Biology               Russian  \n",
       "22      Communication Studies         Asian Studies  \n",
       "23                    History               Finance  \n",
       "24       Occupational Therapy               History  \n",
       "25                        Art            Management  \n",
       "26                        Art            Management  \n",
       "27                        Art            Management  \n",
       "28                        Art            Management  \n",
       "29                        Art            Management  \n",
       "...                       ...                   ...  \n",
       "19405  Industrial Engineering  Chemical Engineering  \n",
       "19406  Industrial Engineering  Chemical Engineering  \n",
       "19407  Industrial Engineering  Chemical Engineering  \n",
       "19408  Industrial Engineering  Chemical Engineering  \n",
       "19409  Industrial Engineering  Chemical Engineering  \n",
       "19410  Industrial Engineering  Chemical Engineering  \n",
       "19411  Industrial Engineering  Chemical Engineering  \n",
       "19412  Industrial Engineering  Chemical Engineering  \n",
       "19413                 History   Laboratory Sciences  \n",
       "19414                 History   Laboratory Sciences  \n",
       "19415                 History   Laboratory Sciences  \n",
       "19416                 History   Laboratory Sciences  \n",
       "19417                 History   Laboratory Sciences  \n",
       "19418                 History   Laboratory Sciences  \n",
       "19419                 History   Laboratory Sciences  \n",
       "19420                 History   Laboratory Sciences  \n",
       "19421                 History   Laboratory Sciences  \n",
       "19422                 History   Laboratory Sciences  \n",
       "19423                 History   Laboratory Sciences  \n",
       "19424                 History   Laboratory Sciences  \n",
       "19425                 History   Laboratory Sciences  \n",
       "19426                 History   Laboratory Sciences  \n",
       "19427                 History   Laboratory Sciences  \n",
       "19428                 History   Laboratory Sciences  \n",
       "19429                 History   Laboratory Sciences  \n",
       "19430                 History   Laboratory Sciences  \n",
       "19431                 History   Laboratory Sciences  \n",
       "19432                 History   Laboratory Sciences  \n",
       "19433                 History   Laboratory Sciences  \n",
       "19434                 History   Laboratory Sciences  \n",
       "\n",
       "[19435 rows x 7 columns]"
      ]
     },
     "execution_count": 57,
     "metadata": {},
     "output_type": "execute_result"
    }
   ],
   "source": [
    "import pandas as pd\n",
    "answer = pd.merge(testFinal_df,dftestans, on='student_id', how='inner')\n",
    "answer"
   ]
  },
  {
   "cell_type": "code",
   "execution_count": 58,
   "metadata": {},
   "outputs": [],
   "source": [
    "answer.to_csv(\"adaboost.csv\", index = None, header=True, encoding='utf-8',sep = '|')"
   ]
  },
  {
   "cell_type": "code",
   "execution_count": null,
   "metadata": {},
   "outputs": [],
   "source": []
  },
  {
   "cell_type": "code",
   "execution_count": 59,
   "metadata": {},
   "outputs": [],
   "source": [
    "import os\n",
    "os.rename('adaboost.csv','eval1.psv')"
   ]
  },
  {
   "cell_type": "code",
   "execution_count": 60,
   "metadata": {},
   "outputs": [],
   "source": [
    "fileRead = pd.read_csv('eval1.psv', sep='|', header=0)"
   ]
  }
 ],
 "metadata": {
  "kernelspec": {
   "display_name": "Python 3",
   "language": "python",
   "name": "python3"
  },
  "language_info": {
   "codemirror_mode": {
    "name": "ipython",
    "version": 3
   },
   "file_extension": ".py",
   "mimetype": "text/x-python",
   "name": "python",
   "nbconvert_exporter": "python",
   "pygments_lexer": "ipython3",
   "version": "3.7.1"
  }
 },
 "nbformat": 4,
 "nbformat_minor": 2
}
